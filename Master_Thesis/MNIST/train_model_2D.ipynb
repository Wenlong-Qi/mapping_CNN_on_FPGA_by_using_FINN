{
 "cells": [
  {
   "cell_type": "code",
   "execution_count": 1,
   "metadata": {},
   "outputs": [
    {
     "name": "stdout",
     "output_type": "stream",
     "text": [
      "Defaulting to user installation because normal site-packages is not writeable\n",
      "Collecting opencv-python-headless\n",
      "  Downloading opencv_python_headless-4.5.3.56-cp38-cp38-manylinux2014_x86_64.whl (37.1 MB)\n",
      "\u001b[K     |████████████████████████████████| 37.1 MB 269 kB/s eta 0:00:01     |█████████████████████████████▏  | 33.9 MB 725 kB/s eta 0:00:05     |█████████████████████████████▌  | 34.3 MB 1.3 MB/s eta 0:00:03\n",
      "\u001b[?25hRequirement already satisfied: numpy>=1.17.3 in /opt/conda/lib/python3.8/site-packages (from opencv-python-headless) (1.21.2)\n",
      "Installing collected packages: opencv-python-headless\n",
      "Successfully installed opencv-python-headless-4.5.3.56\n",
      "Note: you may need to restart the kernel to use updated packages.\n"
     ]
    }
   ],
   "source": [
    "#pip install opencv-python-headless"
   ]
  },
  {
   "cell_type": "code",
   "execution_count": 1,
   "metadata": {},
   "outputs": [],
   "source": [
    "import numpy as np\n",
    "import random\n",
    "import math\n",
    "import sys\n",
    "import os\n",
    "#import cv2\n",
    "import matplotlib.pyplot as plt\n",
    "import scipy\n",
    "from sklearn.model_selection import train_test_split\n",
    "from shutil import copy\n",
    "from sklearn.metrics import confusion_matrix\n",
    "import time"
   ]
  },
  {
   "cell_type": "markdown",
   "metadata": {},
   "source": [
    "split dataset if needed"
   ]
  },
  {
   "cell_type": "code",
   "execution_count": 30,
   "metadata": {},
   "outputs": [],
   "source": [
    "#run only once for data_split\n",
    "\n",
    "'''\n",
    "\n",
    "# Organize sign_lang data set for training\n",
    "split_root = \"./Sign-Language-Digits-Dataset/Dataset\"\n",
    "dest_root = \"./Dataset\"\n",
    "\n",
    "def sl_data_split(split_root , dest_root):\n",
    "    for letter in  os.listdir(os.path.join(split_root)):\n",
    "        for cnt,img in enumerate(os.listdir(os.path.join(split_root,letter))):\n",
    "            img_str = letter + '-' + img\n",
    "            if cnt/len(os.listdir(os.path.join(split_root,letter))) < 0.8:  # split up for training and testing\n",
    "                if not os.path.exists(os.path.join(dest_root,'train',letter,img_str)):\n",
    "                    copy(os.path.join(split_root,letter,img), os.path.join(dest_root,'train',letter,img_str))\n",
    "            else:\n",
    "                if not os.path.exists(os.path.join(dest_root,'test',letter,img_str)):\n",
    "                    copy(os.path.join(split_root,letter,img), os.path.join(dest_root,'test',letter,img_str))\n",
    "                    \n",
    "make_dataset = sl_data_split(split_root=split_root, dest_root=dest_root)\n",
    "\n",
    "'''"
   ]
  },
  {
   "cell_type": "markdown",
   "metadata": {},
   "source": [
    "pre-process the images"
   ]
  },
  {
   "cell_type": "code",
   "execution_count": 2,
   "metadata": {},
   "outputs": [],
   "source": [
    "from torch.utils.data import DataLoader\n",
    "from torchvision import datasets, transforms, models\n",
    "\n",
    "BATCH_SIZE = 32\n",
    "\n",
    "path1 = \"./Dataset\"\n",
    "\n",
    "classes = ['0', '1', '2', '3', '4', '5','6','7','8','9']\n",
    "n_classes = len(classes)\n",
    "\n",
    "def data_loader(root=path1):\n",
    "        # Define image transforms\n",
    "    train_transform = transforms.Compose([\n",
    "            #transforms.RandomHorizontalFlip(),\n",
    "            transforms.Grayscale(),\n",
    "            #transforms.RandomRotation(10),\n",
    "            #transforms.Resize((224,224)),\n",
    "            #transforms.Resize((7,7)),\n",
    "            transforms.Resize((28,28)),\n",
    "            transforms.ToTensor(),\n",
    "            #transforms.Normalize([0.5, 0.5, 0.5],     # standard normalization values\n",
    "             #                    [0.5, 0.5, 0.5])\n",
    "            ])   \n",
    "\n",
    "    test_transform = transforms.Compose([\n",
    "            #transforms.RandomHorizontalFlip(),\n",
    "            transforms.Grayscale(),\n",
    "            #transforms.Resize((224,224)),\n",
    "            #transforms.Resize((7,7)),\n",
    "            transforms.Resize((28,28)),\n",
    "            transforms.ToTensor(),\n",
    "            #transforms.Normalize([0.5, 0.5, 0.5],     # standard normalization values\n",
    "             #                    [0.5, 0.5, 0.5])\n",
    "            ])\n",
    "\n",
    "    train_data = datasets.ImageFolder(os.path.join(root, 'train'), transform=train_transform)\n",
    "    test_data = datasets.ImageFolder(os.path.join(root, 'test'), transform=test_transform)\n",
    "\n",
    "\n",
    "    #train_loader = DataLoader(train_data, batch_size=BATCH_SIZE, shuffle=True, pin_memory=True, num_workers=2)\n",
    "    #test_loader = DataLoader(test_data, batch_size=BATCH_SIZE, shuffle=True, pin_memory=True, num_workers=2)\n",
    "    train_loader = DataLoader(train_data, batch_size=BATCH_SIZE, shuffle=True)\n",
    "    test_loader = DataLoader(test_data, batch_size=BATCH_SIZE, shuffle=True)\n",
    "    \n",
    "    return train_loader, test_loader\n",
    "\n",
    "train_loader, test_loader = data_loader(root=path1)"
   ]
  },
  {
   "cell_type": "code",
   "execution_count": 3,
   "metadata": {
    "scrolled": true
   },
   "outputs": [
    {
     "data": {
      "image/png": "[encoded data removed]",
      "text/plain": [
       "<Figure size 432x288 with 1 Axes>"
      ]
     },
     "metadata": {
      "needs_background": "light"
     },
     "output_type": "display_data"
    },
    {
     "name": "stdout",
     "output_type": "stream",
     "text": [
      "tensor([[[[0., 0., 0.,  ..., 0., 0., 0.],\n",
      "          [0., 0., 0.,  ..., 0., 0., 0.],\n",
      "          [0., 0., 0.,  ..., 0., 0., 0.],\n",
      "          ...,\n",
      "          [0., 0., 0.,  ..., 0., 0., 0.],\n",
      "          [0., 0., 0.,  ..., 0., 0., 0.],\n",
      "          [0., 0., 0.,  ..., 0., 0., 0.]]],\n",
      "\n",
      "\n",
      "        [[[2., 0., 0.,  ..., 0., 0., 0.],\n",
      "          [0., 6., 9.,  ..., 0., 0., 0.],\n",
      "          [0., 2., 1.,  ..., 0., 0., 0.],\n",
      "          ...,\n",
      "          [0., 0., 0.,  ..., 0., 0., 0.],\n",
      "          [0., 0., 0.,  ..., 0., 0., 0.],\n",
      "          [0., 0., 0.,  ..., 0., 0., 0.]]],\n",
      "\n",
      "\n",
      "        [[[0., 0., 0.,  ..., 0., 0., 0.],\n",
      "          [0., 0., 0.,  ..., 0., 0., 0.],\n",
      "          [0., 0., 0.,  ..., 0., 0., 0.],\n",
      "          ...,\n",
      "          [0., 0., 0.,  ..., 0., 0., 0.],\n",
      "          [0., 0., 0.,  ..., 0., 0., 0.],\n",
      "          [0., 0., 0.,  ..., 0., 0., 0.]]],\n",
      "\n",
      "\n",
      "        ...,\n",
      "\n",
      "\n",
      "        [[[0., 0., 0.,  ..., 0., 0., 0.],\n",
      "          [0., 0., 0.,  ..., 0., 0., 0.],\n",
      "          [0., 0., 0.,  ..., 0., 0., 0.],\n",
      "          ...,\n",
      "          [0., 0., 0.,  ..., 0., 0., 0.],\n",
      "          [0., 0., 0.,  ..., 0., 0., 0.],\n",
      "          [0., 0., 0.,  ..., 0., 0., 0.]]],\n",
      "\n",
      "\n",
      "        [[[0., 0., 0.,  ..., 0., 0., 0.],\n",
      "          [0., 0., 0.,  ..., 0., 0., 0.],\n",
      "          [0., 0., 0.,  ..., 0., 0., 0.],\n",
      "          ...,\n",
      "          [0., 0., 0.,  ..., 0., 0., 0.],\n",
      "          [0., 0., 0.,  ..., 0., 0., 0.],\n",
      "          [0., 0., 0.,  ..., 0., 0., 0.]]],\n",
      "\n",
      "\n",
      "        [[[0., 0., 0.,  ..., 0., 0., 0.],\n",
      "          [0., 0., 0.,  ..., 0., 0., 0.],\n",
      "          [0., 0., 0.,  ..., 0., 0., 0.],\n",
      "          ...,\n",
      "          [3., 0., 0.,  ..., 0., 0., 0.],\n",
      "          [6., 0., 0.,  ..., 0., 0., 0.],\n",
      "          [5., 0., 0.,  ..., 0., 0., 0.]]]])\n",
      "tensor([9, 2, 5, 2, 9, 4, 8, 1, 0, 2, 5, 9, 7, 4, 7, 1, 0, 4, 0, 8, 2, 0, 0, 1,\n",
      "        3, 1, 4, 5, 9, 1, 1, 8])\n",
      "torch.Size([32, 1, 28, 28])\n",
      "torch.Size([32])\n"
     ]
    }
   ],
   "source": [
    "n = 20\n",
    "cnt = 0\n",
    "\n",
    "for m, (X_train, y_train) in enumerate(train_loader): \n",
    "    #if m == n:\n",
    "        #print(X_train)\n",
    "        #print(y_train)\n",
    "    if cnt>=1: \n",
    "        break    \n",
    "    img = X_train[0]   \n",
    "    img = img.numpy()   \n",
    "    img = np.transpose(img, (1,2,0))    \n",
    "\n",
    "    plt.imshow(img)\n",
    "    plt.show()\n",
    "    print(X_train*255)\n",
    "    print(y_train)\n",
    "    print(X_train.shape)\n",
    "    print(y_train.shape)\n",
    "    cnt += 1\n",
    "        "
   ]
  },
  {
   "cell_type": "markdown",
   "metadata": {},
   "source": [
    "train functions"
   ]
  },
  {
   "cell_type": "code",
   "execution_count": 4,
   "metadata": {},
   "outputs": [],
   "source": [
    "import sklearn \n",
    "from sklearn.metrics import accuracy_score\n",
    "from sklearn.metrics import classification_report\n",
    "\n",
    "def train_model(CNNmodel,epochs,train_loader,test_loader,criterion,optimizer,Batch_Size=20,print_every = 10, \n",
    "                LEARNING_RATE=0.001, lr_reduce=50, verbose=True,plot_results=True):\n",
    "    \n",
    "    start_time = time.time()\n",
    "    batch_size = Batch_Size\n",
    "    max_trn_batch = 800  # Limits very large datasets\n",
    "    max_tst_batch = 300\n",
    "    train_losses = []\n",
    "    test_losses = []\n",
    "    train_correct = []\n",
    "    test_correct = []\n",
    "    losses=[]\n",
    "    \n",
    "    print('Training for {} epochs...\\n'.format(epochs))\n",
    "    \n",
    "    for epoch in range(epochs):\n",
    "        trn_corr = 0\n",
    "        tst_corr = 0\n",
    "        trn_loss = 0\n",
    "        tst_loss = 0\n",
    "        for m, (X_train, y_train) in enumerate(train_loader): # Run the training batches\n",
    "            # Limit the number of batches\n",
    "            if m == max_trn_batch: break\n",
    "            m+=1\n",
    "\n",
    "            y_pred = CNNmodel(X_train)  # Apply the model\n",
    "            loss = criterion(y_pred, y_train)\n",
    "            \n",
    "            predicted = torch.max(y_pred.data, 1)[1] # Tally the number of correct predictions\n",
    "            batch_corr = (predicted == y_train).sum()\n",
    "            trn_corr += batch_corr\n",
    "\n",
    "            optimizer.zero_grad()  # Update parameters\n",
    "            loss.backward()\n",
    "            optimizer.step()\n",
    "            \n",
    "            trn_loss += loss.item()\n",
    "            \n",
    "        train_losses.append(trn_loss)\n",
    "        train_correct.append(trn_corr*100/(batch_size*m))\n",
    "\n",
    "        with torch.no_grad():  # Run the testing batches\n",
    "            for n, (X_test, y_test) in enumerate(test_loader):\n",
    "                if n == max_tst_batch: break  # Limit the number of batches\n",
    "\n",
    "                y_val = CNNmodel(X_test)  # Apply the model\n",
    "                loss = criterion(y_val, y_test)\n",
    "                tst_loss += loss.item()\n",
    "\n",
    "                predicted = torch.max(y_val.data, 1)[1]  # Tally the number of correct predictions\n",
    "                tst_corr += (predicted == y_test).sum()\n",
    "\n",
    "        test_losses.append(tst_loss)\n",
    "        test_correct.append(tst_corr*100/(batch_size*n))\n",
    "\n",
    "        if verbose == True and epoch % print_every== 0: \n",
    "            print('\\n\\nEpoch {}/{}: train loss: {:.4f} | acc: {:.4f}%|   validation loss: {:.4f} | acc: {:.4f}%'\n",
    "                  .format(epoch+1, epochs, trn_loss, trn_corr*100/(batch_size*m), tst_loss, tst_corr*100/(batch_size*n)), end=' ')\n",
    "        if epoch+1 == epochs:\n",
    "            print('\\n\\nFinal Accuracy:{:.4f}%'.format( tst_corr*100/(batch_size*n)))\n",
    "            \n",
    "                # adjust the LEARNING_RATE\n",
    "        if epoch != 0 and epoch % lr_reduce == 0:\n",
    "            LEARNING_RATE = LEARNING_RATE*0.5\n",
    "            optimizer = optim.Adam(CNNmodel.parameters(),lr = LEARNING_RATE)\n",
    "#            for param_group in optimizer.param_groups:\n",
    "#                param_group['lr'] = LEARNING_RATE\n",
    "            print('\\n\\n\\nEpoch{}/{}: Set LEARNING_RATE = {:.8f}'.format(epoch+1, epochs, LEARNING_RATE))\n",
    "    \n",
    "        \n",
    "    if verbose == True:        \n",
    "        print('\\nFinished Training  | Time:{}'.format(time.time()-start_time))\n",
    "    if plot_results == True:\n",
    "        plt.figure(figsize=(10,10))\n",
    "        plt.plot(train_losses, label='train loss')\n",
    "        plt.plot(test_losses, label='validation loss')\n",
    "        plt.legend()\n",
    "        plt.xlabel('Epoch')\n",
    "        plt.ylabel('Loss')\n",
    "        plt.draw()\n",
    "        \n",
    "        plt.figure(figsize=(10,10))\n",
    "        plt.plot([t for t in train_correct], label='train accuracy')\n",
    "        plt.plot([t for t in test_correct], label='validation accuracy')\n",
    "        plt.legend()\n",
    "        plt.xlabel('Epoch')\n",
    "        plt.ylabel('Accuracy')\n",
    "        plt.draw()\n",
    "        \n",
    "        return CNNmodel\n"
   ]
  },
  {
   "cell_type": "markdown",
   "metadata": {},
   "source": [
    "model architecture"
   ]
  },
  {
   "cell_type": "code",
   "execution_count": 5,
   "metadata": {},
   "outputs": [],
   "source": [
    "import onnx\n",
    "import torch\n",
    "from brevitas.nn import QuantConv2d, QuantIdentity, QuantMaxPool2d, QuantLinear,QuantDropout,QuantReLU\n",
    "from brevitas.core.quant import QuantType\n",
    "import torch.nn as nn\n",
    "from torch import optim\n",
    "from brevitas.quant import SignedTernaryActPerTensorConst,SignedBinaryActPerTensorConst"
   ]
  },
  {
   "cell_type": "code",
   "execution_count": 6,
   "metadata": {},
   "outputs": [],
   "source": [
    "# mAlexNet\n",
    "\n",
    "# did not change the architecture, but changed the kernel size and channels\n",
    "\n",
    "\n",
    "class MNIST_2D(nn.Module):\n",
    "    def __init__(self,input_size,num_classes,weight_bit_width,act_bit_width):\n",
    "        super(MNIST_2D,self).__init__()\n",
    "        \n",
    "        self.cnn1 = QuantConv2d(in_channels=input_size,out_channels=16,kernel_size=3,\n",
    "                                padding=1,bias=False,weight_bit_width=weight_bit_width)\n",
    "        self.bn_1 = nn.BatchNorm2d(16)\n",
    "        self.relu1 = QuantReLU(bit_width=act_bit_width)\n",
    "        self.maxpool1 = nn.MaxPool2d(kernel_size=2,stride=None)\n",
    "        \n",
    "        self.cnn2 = QuantConv2d(in_channels=16,out_channels=20,kernel_size=3,\n",
    "                                padding=0,bias=False,weight_bit_width=weight_bit_width)\n",
    "        self.bn_2 = nn.BatchNorm2d(20)\n",
    "        self.relu2 = QuantReLU(bit_width=act_bit_width)\n",
    "        self.maxpool2 = nn.MaxPool2d(kernel_size=2,stride=None)\n",
    "        \n",
    "        self.cnn3 = QuantConv2d(in_channels=20,out_channels=30,kernel_size=3,\n",
    "                               padding=0,bias=False,weight_bit_width=weight_bit_width)\n",
    "        self.relu3 = QuantReLU(bit_width=act_bit_width)\n",
    "        self.maxpool3 = nn.MaxPool2d(kernel_size=2,stride=None)\n",
    "\n",
    "        self.drop1 = QuantDropout(p=0.5)\n",
    "                                  \n",
    "        self.fc1 = QuantLinear(2*2*30,5*12,bias=False,weight_bit_width=weight_bit_width)\n",
    "        self.relu4 = QuantReLU(bit_width=act_bit_width)\n",
    "        \n",
    "        self.fc2 = QuantLinear(5*12,num_classes,bias=False,weight_bit_width=weight_bit_width)\n",
    "        \n",
    "    def forward(self,x):\n",
    "        x = self.maxpool1(self.relu1(self.bn_1(self.cnn1(x))))\n",
    "        x = self.maxpool2(self.relu2(self.bn_2(self.cnn2(x))))\n",
    "        x = self.maxpool3(self.relu3(self.cnn3(x)))\n",
    "        \n",
    "        x = x.view(x.size(0),-1)\n",
    "        x = self.drop1(x)\n",
    "        x = self.relu4(self.fc1(x))\n",
    "        x = self.fc2(x)\n",
    "        \n",
    "        return x"
   ]
  },
  {
   "cell_type": "code",
   "execution_count": 7,
   "metadata": {},
   "outputs": [],
   "source": [
    "input_size = 1 # 3 input layers for RGB image\n",
    "num_classes = n_classes\n",
    "weight_bit_width = 2\n",
    "act_bit_width = 2\n",
    "\n",
    "brevitas_model = MNIST_2D(input_size=input_size,num_classes=num_classes,\n",
    "                                    weight_bit_width=weight_bit_width,act_bit_width=act_bit_width)"
   ]
  },
  {
   "cell_type": "code",
   "execution_count": 8,
   "metadata": {},
   "outputs": [],
   "source": [
    "LEARNING_RATE = 0.0004\n",
    "optimizer = optim.Adam(brevitas_model.parameters(),lr = LEARNING_RATE)\n",
    "criterion = torch.nn.CrossEntropyLoss()"
   ]
  },
  {
   "cell_type": "code",
   "execution_count": 9,
   "metadata": {},
   "outputs": [],
   "source": [
    "train_loader, test_loader = data_loader(root=path1)"
   ]
  },
  {
   "cell_type": "code",
   "execution_count": 10,
   "metadata": {
    "scrolled": false
   },
   "outputs": [
    {
     "name": "stdout",
     "output_type": "stream",
     "text": [
      "Training for 10 epochs...\n",
      "\n"
     ]
    },
    {
     "name": "stderr",
     "output_type": "stream",
     "text": [
      "/opt/conda/lib/python3.8/site-packages/torch/autograd/__init__.py:130: UserWarning: CUDA initialization: Found no NVIDIA driver on your system. Please check that you have an NVIDIA GPU and installed a driver from http://www.nvidia.com/Download/index.aspx (Triggered internally at  /opt/conda/conda-bld/pytorch_1607370172916/work/c10/cuda/CUDAFunctions.cpp:100.)\n",
      "  Variable._execution_engine.run_backward(\n"
     ]
    },
    {
     "name": "stdout",
     "output_type": "stream",
     "text": [
      "\n",
      "\n",
      "Epoch 1/10: train loss: 763.2709 | acc: 69.4570%|   validation loss: 131.1562 | acc: 87.0104% \n",
      "\n",
      "Epoch 6/10: train loss: 175.3605 | acc: 93.1484%|   validation loss: 67.6376 | acc: 93.1042% \n",
      "\n",
      "Final Accuracy:94.3021%\n",
      "\n",
      "Finished Training  | Time:476.7978358268738\n"
     ]
    },
    {
     "data": {
      "image/png": "[encoded data removed]",
      "text/plain": [
       "<Figure size 720x720 with 1 Axes>"
      ]
     },
     "metadata": {
      "needs_background": "light"
     },
     "output_type": "display_data"
    },
    {
     "data": {
      "image/png": "[encoded data removed]",
      "text/plain": [
       "<Figure size 720x720 with 1 Axes>"
      ]
     },
     "metadata": {
      "needs_background": "light"
     },
     "output_type": "display_data"
    }
   ],
   "source": [
    "EPOCHS=10\n",
    "lr_reduce=30\n",
    "trained_classifier = train_model(CNNmodel=brevitas_model,epochs=EPOCHS,\n",
    "                                train_loader=train_loader, test_loader=test_loader,\n",
    "                                criterion = criterion,optimizer = optimizer, \n",
    "                                Batch_Size = BATCH_SIZE,print_every = 5, \n",
    "                                LEARNING_RATE=LEARNING_RATE, lr_reduce=lr_reduce,\n",
    "                                verbose=True,plot_results=True)"
   ]
  },
  {
   "cell_type": "markdown",
   "metadata": {},
   "source": [
    "save parameters and export ONNX model"
   ]
  },
  {
   "cell_type": "code",
   "execution_count": null,
   "metadata": {},
   "outputs": [],
   "source": []
  },
  {
   "cell_type": "code",
   "execution_count": 11,
   "metadata": {},
   "outputs": [],
   "source": [
    "torch.save(brevitas_model.state_dict(),'./multi_model_test/save_model/model_2D_parameter_28*28.pth')"
   ]
  },
  {
   "cell_type": "code",
   "execution_count": 12,
   "metadata": {},
   "outputs": [],
   "source": [
    "import brevitas.onnx as bo"
   ]
  },
  {
   "cell_type": "code",
   "execution_count": null,
   "metadata": {},
   "outputs": [],
   "source": [
    "export_onnx_path=\"./multi_model_test/save_model/model_2D_28*28.onnx\"\n",
    "input_shape=(1,1,28,28)\n",
    "bo.export_finn_onnx(brevitas_model, input_shape, export_onnx_path)"
   ]
  }
 ],
 "metadata": {
  "kernelspec": {
   "display_name": "Python 3",
   "language": "python",
   "name": "python3"
  },
  "language_info": {
   "codemirror_mode": {
    "name": "ipython",
    "version": 3
   },
   "file_extension": ".py",
   "mimetype": "text/x-python",
   "name": "python",
   "nbconvert_exporter": "python",
   "pygments_lexer": "ipython3",
   "version": "3.8.5"
  }
 },
 "nbformat": 4,
 "nbformat_minor": 5
}
