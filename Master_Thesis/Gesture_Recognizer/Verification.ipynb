{
 "cells": [
  {
   "cell_type": "code",
   "execution_count": null,
   "metadata": {},
   "outputs": [],
   "source": [
    "#pip install opencv-python-headless"
   ]
  },
  {
   "cell_type": "code",
   "execution_count": 1,
   "metadata": {},
   "outputs": [],
   "source": [
    "#import cv2\n",
    "import numpy as np\n",
    "import random\n",
    "import math\n",
    "import sys\n",
    "import os\n",
    "import matplotlib.pyplot as plt\n",
    "import scipy\n",
    "from sklearn.model_selection import train_test_split\n",
    "from shutil import copy\n",
    "import time"
   ]
  },
  {
   "cell_type": "markdown",
   "metadata": {},
   "source": [
    "process the dataset"
   ]
  },
  {
   "cell_type": "code",
   "execution_count": 4,
   "metadata": {},
   "outputs": [],
   "source": [
    "from torch.utils.data import DataLoader\n",
    "from torchvision import datasets, transforms, models\n",
    "\n",
    "BATCH_SIZE = 1\n",
    "path1 = \"./Dataset\"\n",
    "classes = ['0', '1', '2', '3', '4', '5','6','7','8','9']\n",
    "n_classes = len(classes)\n",
    "\n",
    "def data_loader(root=path1):\n",
    "        # Define image transforms\n",
    "    train_transform = transforms.Compose([\n",
    "            transforms.RandomHorizontalFlip(),  # reverse 50% of images\n",
    "            #transforms.RandomRotation(10),      # up to 10 degrees of random rotation\n",
    "            transforms.Resize((32,32)),\n",
    "            transforms.ToTensor(),\n",
    "            #transforms.Normalize([0.5, 0.5, 0.5],     # standard normalization values\n",
    "             #                    [0.5, 0.5, 0.5])\n",
    "            ])   \n",
    "                                                      # In FINN, we prefer to work with bipolar {-1, +1} \n",
    "                                                      # instead of binary {0, 1} values.\n",
    "\n",
    "    test_transform = transforms.Compose([\n",
    "            transforms.Resize((32,32)),\n",
    "            transforms.ToTensor(),\n",
    "            #transforms.Normalize([0.5, 0.5, 0.5],     # standard normalization values\n",
    "             #                    [0.5, 0.5, 0.5])\n",
    "            ])\n",
    "    train_data = datasets.ImageFolder(os.path.join(root, 'train'), transform=train_transform)\n",
    "    test_data = datasets.ImageFolder(os.path.join(root, 'test'), transform=test_transform)\n",
    "\n",
    "    train_loader = DataLoader(train_data, batch_size=BATCH_SIZE, shuffle=True)\n",
    "    test_loader = DataLoader(test_data, batch_size=BATCH_SIZE, shuffle=True)\n",
    "    \n",
    "    return train_loader, test_loader\n",
    "\n",
    "train_loader, test_loader = data_loader(root=path1)"
   ]
  },
  {
   "cell_type": "code",
   "execution_count": 110,
   "metadata": {
    "scrolled": false
   },
   "outputs": [
    {
     "data": {
      "image/png": "[encoded data removed]",
      "text/plain": [
       "<Figure size 432x288 with 1 Axes>"
      ]
     },
     "metadata": {
      "needs_background": "light"
     },
     "output_type": "display_data"
    },
    {
     "name": "stdout",
     "output_type": "stream",
     "text": [
      "tensor([[[[127., 131., 137.,  ..., 146., 140., 136.],\n",
      "          [130., 136., 143.,  ..., 153., 146., 139.],\n",
      "          [135., 141., 149.,  ..., 159., 152., 143.],\n",
      "          ...,\n",
      "          [132., 138., 145.,  ..., 148., 142., 134.],\n",
      "          [127., 132., 138.,  ..., 144., 137., 130.],\n",
      "          [123., 128., 132.,  ..., 138., 133., 128.]],\n",
      "\n",
      "         [[123., 127., 133.,  ..., 145., 139., 135.],\n",
      "          [126., 132., 139.,  ..., 152., 145., 138.],\n",
      "          [131., 137., 145.,  ..., 157., 151., 142.],\n",
      "          ...,\n",
      "          [129., 135., 142.,  ..., 146., 139., 131.],\n",
      "          [124., 129., 135.,  ..., 142., 134., 127.],\n",
      "          [120., 125., 129.,  ..., 136., 131., 125.]],\n",
      "\n",
      "         [[121., 126., 132.,  ..., 140., 135., 132.],\n",
      "          [125., 131., 138.,  ..., 150., 142., 134.],\n",
      "          [130., 136., 144.,  ..., 159., 150., 138.],\n",
      "          ...,\n",
      "          [124., 130., 137.,  ..., 141., 132., 123.],\n",
      "          [119., 124., 130.,  ..., 139., 129., 120.],\n",
      "          [115., 120., 125.,  ..., 135., 129., 119.]]]])\n",
      "tensor([6])\n",
      "torch.Size([1, 3, 32, 32])\n",
      "torch.Size([1])\n"
     ]
    }
   ],
   "source": [
    "n = 20\n",
    "cnt = 0\n",
    "\n",
    "for m, (X_train, y_train) in enumerate(train_loader): \n",
    "    #if m == n:\n",
    "        #print(X_train)\n",
    "        #print(y_train)\n",
    "    if cnt>=1: \n",
    "        break    \n",
    "    img = X_train[0]   \n",
    "    img = img.numpy()   \n",
    "    img = np.transpose(img, (1,2,0))\n",
    "    input_tensor = X_train\n",
    "    label = y_train\n",
    "\n",
    "    plt.imshow(img)\n",
    "    plt.show()\n",
    "    print(X_train*255)\n",
    "    print(y_train)\n",
    "    print(X_train.shape)\n",
    "    print(y_train.shape)\n",
    "    cnt += 1\n",
    " "
   ]
  },
  {
   "cell_type": "markdown",
   "metadata": {},
   "source": [
    "creat test data if needed"
   ]
  },
  {
   "cell_type": "code",
   "execution_count": 115,
   "metadata": {},
   "outputs": [],
   "source": [
    "'''\n",
    "output_txt = input_tensor*255\n",
    "output_txt = output_txt.squeeze()\n",
    "\n",
    "output_txt_R = output_txt[0:1]\n",
    "output_txt_R = (np.array((output_txt_R.squeeze()).view(32*32,-1))).astype(int)\n",
    "np.savetxt('./test_data_32/test_9_R.txt',output_txt_R, fmt=\"%x\")\n",
    "\n",
    "output_txt_G = output_txt[1:2]\n",
    "output_txt_G = (np.array((output_txt_G.squeeze()).view(32*32,-1))).astype(int)\n",
    "np.savetxt('./test_data_32/test_9_G.txt',output_txt_G, fmt=\"%x\")\n",
    "\n",
    "output_txt_B = output_txt[2:3]\n",
    "output_txt_B = (np.array((output_txt_B.squeeze()).view(32*32,-1))).astype(int)\n",
    "np.savetxt('./test_data_32/test_9_B.txt',output_txt_B, fmt=\"%x\")\n",
    "'''"
   ]
  },
  {
   "cell_type": "code",
   "execution_count": null,
   "metadata": {},
   "outputs": [],
   "source": []
  },
  {
   "cell_type": "code",
   "execution_count": 6,
   "metadata": {},
   "outputs": [],
   "source": [
    "import brevitas.onnx as bo\n",
    "import onnx\n",
    "import torch\n",
    "from brevitas.nn import QuantConv2d, QuantIdentity, QuantMaxPool2d, QuantLinear,QuantDropout,QuantReLU\n",
    "from brevitas.core.quant import QuantType\n",
    "import torch.nn as nn\n",
    "from torch import optim"
   ]
  },
  {
   "cell_type": "markdown",
   "metadata": {},
   "source": [
    "describe the model"
   ]
  },
  {
   "cell_type": "code",
   "execution_count": 7,
   "metadata": {},
   "outputs": [],
   "source": [
    "# LeNet   \n",
    "\n",
    "class Gesture_Recognizer(nn.Module):\n",
    "    def __init__(self,input_size,num_classes,weight_bit_width,act_bit_width):\n",
    "        super(Gesture_Recognizer,self).__init__()\n",
    "        \n",
    "        self.cnn1 = QuantConv2d(in_channels=input_size,out_channels=6,kernel_size=5,\n",
    "                                padding=0,bias=False,weight_bit_width=weight_bit_width)\n",
    "        self.relu1 = QuantReLU(bit_width=act_bit_width)\n",
    "        self.maxpool1 = nn.MaxPool2d(kernel_size=2,stride=None)\n",
    "        \n",
    "        self.cnn2 = QuantConv2d(in_channels=6,out_channels=16,kernel_size=5,\n",
    "                                padding=0,bias=False,weight_bit_width=weight_bit_width)\n",
    "        self.relu2 = QuantReLU(bit_width=act_bit_width)\n",
    "        self.maxpool2 = nn.MaxPool2d(kernel_size=2,stride=None)\n",
    "        \n",
    "        self.cnn3 = QuantConv2d(in_channels=16,out_channels=120,kernel_size=5,\n",
    "                                padding=0,bias=False,weight_bit_width=weight_bit_width)\n",
    "        self.relu3 = QuantReLU(bit_width=act_bit_width)\n",
    "        \n",
    "        \n",
    "        self.drop1 = QuantDropout(p=0.5)\n",
    "        \n",
    "        self.fc1 = QuantLinear(1*1*120,64,bias=False,weight_bit_width=weight_bit_width)\n",
    "        self.relu6 = QuantReLU(bit_width=act_bit_width)\n",
    "        \n",
    "        self.fc2 = QuantLinear(64,num_classes,bias=False,weight_bit_width=weight_bit_width)\n",
    "        self.relu7 = QuantReLU(bit_width=act_bit_width)\n",
    "        \n",
    "    def forward(self,x):\n",
    "        x = self.maxpool1(self.relu1(self.cnn1(x)))\n",
    "        x = self.maxpool2(self.relu2(self.cnn2(x)))\n",
    "        x = self.relu3(self.cnn3(x))\n",
    "        \n",
    "        x = x.view(x.size(0),-1)\n",
    "        x = self.drop1(x)\n",
    "        x = self.relu6(self.fc1(x))\n",
    "        x = self.relu7(self.fc2(x))\n",
    "        \n",
    "        return x"
   ]
  },
  {
   "cell_type": "markdown",
   "metadata": {},
   "source": [
    "load the parameters"
   ]
  },
  {
   "cell_type": "code",
   "execution_count": null,
   "metadata": {},
   "outputs": [],
   "source": [
    "input_size = 3 # 3 input layers for RGB image\n",
    "num_classes = n_classes\n",
    "weight_bit_width = 4\n",
    "act_bit_width = 4\n",
    "\n",
    "original_model = Gesture_Recognizer(input_size=input_size,num_classes=num_classes,\n",
    "                                    weight_bit_width=weight_bit_width,act_bit_width=act_bit_width)\n",
    "state_dict = torch.load('./test/LeNet_model_parameter_W4A4.pth')\n",
    "original_model.load_state_dict(state_dict)\n",
    "original_model.eval()"
   ]
  },
  {
   "cell_type": "code",
   "execution_count": 111,
   "metadata": {},
   "outputs": [
    {
     "name": "stdout",
     "output_type": "stream",
     "text": [
      "torch.Size([1, 3, 32, 32])\n",
      "input: tensor([[[[0.4980, 0.5137, 0.5373,  ..., 0.5725, 0.5490, 0.5333],\n",
      "          [0.5098, 0.5333, 0.5608,  ..., 0.6000, 0.5725, 0.5451],\n",
      "          [0.5294, 0.5529, 0.5843,  ..., 0.6235, 0.5961, 0.5608],\n",
      "          ...,\n",
      "          [0.5176, 0.5412, 0.5686,  ..., 0.5804, 0.5569, 0.5255],\n",
      "          [0.4980, 0.5176, 0.5412,  ..., 0.5647, 0.5373, 0.5098],\n",
      "          [0.4824, 0.5020, 0.5176,  ..., 0.5412, 0.5216, 0.5020]],\n",
      "\n",
      "         [[0.4824, 0.4980, 0.5216,  ..., 0.5686, 0.5451, 0.5294],\n",
      "          [0.4941, 0.5176, 0.5451,  ..., 0.5961, 0.5686, 0.5412],\n",
      "          [0.5137, 0.5373, 0.5686,  ..., 0.6157, 0.5922, 0.5569],\n",
      "          ...,\n",
      "          [0.5059, 0.5294, 0.5569,  ..., 0.5725, 0.5451, 0.5137],\n",
      "          [0.4863, 0.5059, 0.5294,  ..., 0.5569, 0.5255, 0.4980],\n",
      "          [0.4706, 0.4902, 0.5059,  ..., 0.5333, 0.5137, 0.4902]],\n",
      "\n",
      "         [[0.4745, 0.4941, 0.5176,  ..., 0.5490, 0.5294, 0.5176],\n",
      "          [0.4902, 0.5137, 0.5412,  ..., 0.5882, 0.5569, 0.5255],\n",
      "          [0.5098, 0.5333, 0.5647,  ..., 0.6235, 0.5882, 0.5412],\n",
      "          ...,\n",
      "          [0.4863, 0.5098, 0.5373,  ..., 0.5529, 0.5176, 0.4824],\n",
      "          [0.4667, 0.4863, 0.5098,  ..., 0.5451, 0.5059, 0.4706],\n",
      "          [0.4510, 0.4706, 0.4902,  ..., 0.5294, 0.5059, 0.4667]]]])\n",
      "Label_true: tensor([6])\n"
     ]
    }
   ],
   "source": [
    "print(input_tensor.shape)\n",
    "print(\"input:\",input_tensor)\n",
    "print(\"Label_true:\",label)"
   ]
  },
  {
   "cell_type": "markdown",
   "metadata": {},
   "source": [
    "check if predict correctly"
   ]
  },
  {
   "cell_type": "code",
   "execution_count": 112,
   "metadata": {},
   "outputs": [
    {
     "name": "stdout",
     "output_type": "stream",
     "text": [
      "output_golden: tensor([[0.0000, 0.0000, 0.0000, 0.0000, 4.4067, 0.0000, 6.6100, 0.0000, 0.0000,\n",
      "         0.0000]], grad_fn=<MulBackward0>)\n",
      "Label_pred: tensor([6])\n"
     ]
    }
   ],
   "source": [
    "output_golden = original_model.forward(input_tensor)\n",
    "print(\"output_golden:\",output_golden)\n",
    "\n",
    "output_golden_label = output_golden\n",
    "output_golden_label = torch.max(output_golden_label,1)[1]\n",
    "print(\"Label_pred:\",output_golden_label)"
   ]
  },
  {
   "cell_type": "code",
   "execution_count": null,
   "metadata": {},
   "outputs": [],
   "source": []
  },
  {
   "cell_type": "code",
   "execution_count": 15,
   "metadata": {},
   "outputs": [],
   "source": [
    "import netron\n",
    "from IPython.display import IFrame\n",
    "\n",
    "def showInNetron(model_filename):\n",
    "    netron.start(model_filename, address=(\"0.0.0.0\",8081))\n",
    "    return IFrame(src=\"http://0.0.0.0:8081/\",width=\"100%\",height=400)"
   ]
  },
  {
   "cell_type": "markdown",
   "metadata": {},
   "source": [
    "## Simulation using Python"
   ]
  },
  {
   "cell_type": "markdown",
   "metadata": {},
   "source": [
    "import ONNX model from streamline step, and check if predict correctly"
   ]
  },
  {
   "cell_type": "code",
   "execution_count": 113,
   "metadata": {},
   "outputs": [
    {
     "name": "stdout",
     "output_type": "stream",
     "text": [
      "input: [[[[127. 131. 137. ... 146. 140. 136.]\n",
      "   [130. 136. 143. ... 153. 146. 139.]\n",
      "   [135. 141. 149. ... 159. 152. 143.]\n",
      "   ...\n",
      "   [132. 138. 145. ... 148. 142. 134.]\n",
      "   [127. 132. 138. ... 144. 137. 130.]\n",
      "   [123. 128. 132. ... 138. 133. 128.]]\n",
      "\n",
      "  [[123. 127. 133. ... 145. 139. 135.]\n",
      "   [126. 132. 139. ... 152. 145. 138.]\n",
      "   [131. 137. 145. ... 157. 151. 142.]\n",
      "   ...\n",
      "   [129. 135. 142. ... 146. 139. 131.]\n",
      "   [124. 129. 135. ... 142. 134. 127.]\n",
      "   [120. 125. 129. ... 136. 131. 125.]]\n",
      "\n",
      "  [[121. 126. 132. ... 140. 135. 132.]\n",
      "   [125. 131. 138. ... 150. 142. 134.]\n",
      "   [130. 136. 144. ... 159. 150. 138.]\n",
      "   ...\n",
      "   [124. 130. 137. ... 141. 132. 123.]\n",
      "   [119. 124. 130. ... 139. 129. 120.]\n",
      "   [115. 120. 125. ... 135. 129. 119.]]]]\n",
      "Label_true: tensor([6])\n"
     ]
    }
   ],
   "source": [
    "import numpy as np\n",
    "from finn.core.modelwrapper import ModelWrapper\n",
    "import onnx.numpy_helper as nph\n",
    "\n",
    "input_test1 = input_tensor*255\n",
    "\n",
    "input_test1 = (input_test1.numpy()).astype(np.float32)#.tolist()\n",
    "input_dict = {\"global_in\": input_test1}\n",
    "print(\"input:\",input_test1)\n",
    "print(\"Label_true:\",label)\n",
    "\n",
    "model_for_sim = ModelWrapper(\"./test/output_ipstitch/intermediate_models/2_step_streamline.onnx\")"
   ]
  },
  {
   "cell_type": "code",
   "execution_count": 114,
   "metadata": {},
   "outputs": [
    {
     "name": "stdout",
     "output_type": "stream",
     "text": [
      "Results for Simulation: Label_pred [[6]]\n"
     ]
    }
   ],
   "source": [
    "import finn.core.onnx_exec as oxe\n",
    "output_dict = oxe.execute_onnx(model_for_sim, input_dict)\n",
    "output_pysim = output_dict[list(output_dict.keys())[0]]\n",
    "print(\"Results for Simulation: Label_pred\",output_pysim)"
   ]
  },
  {
   "cell_type": "code",
   "execution_count": null,
   "metadata": {},
   "outputs": [],
   "source": []
  }
 ],
 "metadata": {
  "kernelspec": {
   "display_name": "Python 3",
   "language": "python",
   "name": "python3"
  },
  "language_info": {
   "codemirror_mode": {
    "name": "ipython",
    "version": 3
   },
   "file_extension": ".py",
   "mimetype": "text/x-python",
   "name": "python",
   "nbconvert_exporter": "python",
   "pygments_lexer": "ipython3",
   "version": "3.8.5"
  }
 },
 "nbformat": 4,
 "nbformat_minor": 5
}
