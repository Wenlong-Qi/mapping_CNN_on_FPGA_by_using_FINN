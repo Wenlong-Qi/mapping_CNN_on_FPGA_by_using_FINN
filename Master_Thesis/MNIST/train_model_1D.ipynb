{
 "cells": [
  {
   "cell_type": "code",
   "execution_count": 1,
   "metadata": {},
   "outputs": [],
   "source": [
    "import numpy as np\n",
    "import random\n",
    "import math\n",
    "import sys\n",
    "import os\n",
    "#import cv2\n",
    "import matplotlib.pyplot as plt\n",
    "import scipy\n",
    "from sklearn.model_selection import train_test_split\n",
    "from shutil import copy\n",
    "from sklearn.metrics import confusion_matrix\n",
    "import time"
   ]
  },
  {
   "cell_type": "markdown",
   "metadata": {},
   "source": [
    "split dataset if needed"
   ]
  },
  {
   "cell_type": "code",
   "execution_count": 30,
   "metadata": {},
   "outputs": [],
   "source": [
    "#run only once for data_split\n",
    "\n",
    "'''\n",
    "\n",
    "# Organize sign_lang data set for training\n",
    "split_root = \"./Sign-Language-Digits-Dataset/Dataset\"\n",
    "dest_root = \"./Dataset\"\n",
    "\n",
    "def sl_data_split(split_root , dest_root):\n",
    "    for letter in  os.listdir(os.path.join(split_root)):\n",
    "        for cnt,img in enumerate(os.listdir(os.path.join(split_root,letter))):\n",
    "            img_str = letter + '-' + img\n",
    "            if cnt/len(os.listdir(os.path.join(split_root,letter))) < 0.8:  # split up for training and testing\n",
    "                if not os.path.exists(os.path.join(dest_root,'train',letter,img_str)):\n",
    "                    copy(os.path.join(split_root,letter,img), os.path.join(dest_root,'train',letter,img_str))\n",
    "            else:\n",
    "                if not os.path.exists(os.path.join(dest_root,'test',letter,img_str)):\n",
    "                    copy(os.path.join(split_root,letter,img), os.path.join(dest_root,'test',letter,img_str))\n",
    "                    \n",
    "make_dataset = sl_data_split(split_root=split_root, dest_root=dest_root)\n",
    "\n",
    "'''"
   ]
  },
  {
   "cell_type": "markdown",
   "metadata": {},
   "source": [
    "pre-process the images"
   ]
  },
  {
   "cell_type": "code",
   "execution_count": 2,
   "metadata": {},
   "outputs": [],
   "source": [
    "from torch.utils.data import DataLoader\n",
    "from torchvision import datasets, transforms, models\n",
    "\n",
    "BATCH_SIZE = 32\n",
    "\n",
    "path1 = \"./Dataset\"\n",
    "\n",
    "classes = ['0', '1', '2', '3', '4', '5','6','7','8','9']\n",
    "n_classes = len(classes)\n",
    "\n",
    "def data_loader(root=path1):\n",
    "        # Define image transforms\n",
    "    train_transform = transforms.Compose([\n",
    "            #transforms.RandomHorizontalFlip(),\n",
    "            transforms.Grayscale(),\n",
    "            #transforms.RandomRotation(10),\n",
    "            #transforms.Resize((28,28)),\n",
    "            transforms.Resize((784,1)), #convert 2D to 1D, 28*28 =784\n",
    "            transforms.ToTensor(),\n",
    "            #transforms.Normalize([0.5, 0.5, 0.5],     # standard normalization values\n",
    "             #                    [0.5, 0.5, 0.5])\n",
    "            ])   \n",
    "\n",
    "\n",
    "    test_transform = transforms.Compose([\n",
    "            transforms.Grayscale(),\n",
    "            #transforms.Resize((28,28)),\n",
    "            transforms.Resize((784,1)), #convert 2D to 1D, 28*28 =784\n",
    "            transforms.ToTensor(),\n",
    "            #transforms.Normalize([0.5, 0.5, 0.5],     # standard normalization values\n",
    "             #                    [0.5, 0.5, 0.5])\n",
    "            ])\n",
    "\n",
    "    train_data = datasets.ImageFolder(os.path.join(root, 'train'), transform=train_transform)\n",
    "    test_data = datasets.ImageFolder(os.path.join(root, 'test'), transform=test_transform)\n",
    "\n",
    "\n",
    "    #train_loader = DataLoader(train_data, batch_size=BATCH_SIZE, shuffle=True, pin_memory=True, num_workers=2)\n",
    "    #test_loader = DataLoader(test_data, batch_size=BATCH_SIZE, shuffle=True, pin_memory=True, num_workers=2)\n",
    "    train_loader = DataLoader(train_data, batch_size=BATCH_SIZE, shuffle=True)\n",
    "    test_loader = DataLoader(test_data, batch_size=BATCH_SIZE, shuffle=True)\n",
    "    \n",
    "    return train_loader, test_loader\n",
    "\n",
    "train_loader, test_loader = data_loader(root=path1)"
   ]
  },
  {
   "cell_type": "code",
   "execution_count": 3,
   "metadata": {
    "scrolled": true
   },
   "outputs": [
    {
     "data": {
      "image/png": "[encoded data removed]",
      "text/plain": [
       "<Figure size 432x288 with 1 Axes>"
      ]
     },
     "metadata": {
      "needs_background": "light"
     },
     "output_type": "display_data"
    },
    {
     "name": "stdout",
     "output_type": "stream",
     "text": [
      "tensor([[[[3.],\n",
      "          [3.],\n",
      "          [3.],\n",
      "          ...,\n",
      "          [0.],\n",
      "          [0.],\n",
      "          [0.]]],\n",
      "\n",
      "\n",
      "        [[[2.],\n",
      "          [2.],\n",
      "          [2.],\n",
      "          ...,\n",
      "          [0.],\n",
      "          [0.],\n",
      "          [0.]]],\n",
      "\n",
      "\n",
      "        [[[2.],\n",
      "          [2.],\n",
      "          [2.],\n",
      "          ...,\n",
      "          [2.],\n",
      "          [2.],\n",
      "          [2.]]],\n",
      "\n",
      "\n",
      "        ...,\n",
      "\n",
      "\n",
      "        [[[1.],\n",
      "          [1.],\n",
      "          [1.],\n",
      "          ...,\n",
      "          [2.],\n",
      "          [2.],\n",
      "          [2.]]],\n",
      "\n",
      "\n",
      "        [[[2.],\n",
      "          [2.],\n",
      "          [2.],\n",
      "          ...,\n",
      "          [2.],\n",
      "          [2.],\n",
      "          [2.]]],\n",
      "\n",
      "\n",
      "        [[[2.],\n",
      "          [2.],\n",
      "          [2.],\n",
      "          ...,\n",
      "          [2.],\n",
      "          [2.],\n",
      "          [2.]]]])\n",
      "tensor([6, 4, 7, 7, 0, 4, 6, 2, 2, 3, 9, 4, 7, 6, 6, 2, 8, 4, 2, 9, 1, 3, 8, 3,\n",
      "        4, 8, 1, 3, 9, 1, 4, 8])\n",
      "torch.Size([32, 1, 784, 1])\n",
      "torch.Size([32])\n"
     ]
    }
   ],
   "source": [
    "n = 20\n",
    "cnt = 0\n",
    "\n",
    "for m, (X_train, y_train) in enumerate(train_loader): \n",
    "    #if m == n:\n",
    "        #print(X_train)\n",
    "        #print(y_train)\n",
    "    if cnt>=1: \n",
    "        break    \n",
    "    img = X_train[0]   \n",
    "    img = img.numpy()   \n",
    "    img = np.transpose(img, (1,2,0))    \n",
    "\n",
    "    plt.imshow(img)\n",
    "    plt.show()\n",
    "    print(X_train*255)\n",
    "    print(y_train)\n",
    "    print(X_train.shape)\n",
    "    print(y_train.shape)\n",
    "    cnt += 1\n",
    "        "
   ]
  },
  {
   "cell_type": "markdown",
   "metadata": {},
   "source": [
    "train functions"
   ]
  },
  {
   "cell_type": "code",
   "execution_count": 4,
   "metadata": {},
   "outputs": [],
   "source": [
    "import sklearn \n",
    "from sklearn.metrics import accuracy_score\n",
    "from sklearn.metrics import classification_report\n",
    "\n",
    "def train_model(CNNmodel,epochs,train_loader,test_loader,criterion,optimizer,Batch_Size=20,print_every = 10, \n",
    "                LEARNING_RATE=0.001, lr_reduce=50, verbose=True,plot_results=True):\n",
    "    \n",
    "    start_time = time.time()\n",
    "    batch_size = Batch_Size\n",
    "    max_trn_batch = 800  # Limits very large datasets\n",
    "    max_tst_batch = 300\n",
    "    train_losses = []\n",
    "    test_losses = []\n",
    "    train_correct = []\n",
    "    test_correct = []\n",
    "    losses=[]\n",
    "    \n",
    "    print('Training for {} epochs...\\n'.format(epochs))\n",
    "    \n",
    "    for epoch in range(epochs):\n",
    "        trn_corr = 0\n",
    "        tst_corr = 0\n",
    "        trn_loss = 0\n",
    "        tst_loss = 0\n",
    "        for m, (X_train, y_train) in enumerate(train_loader): # Run the training batches\n",
    "            # Limit the number of batches\n",
    "            if m == max_trn_batch: break\n",
    "            m+=1\n",
    "\n",
    "            y_pred = CNNmodel(X_train)  # Apply the model\n",
    "            loss = criterion(y_pred, y_train)\n",
    "            \n",
    "            predicted = torch.max(y_pred.data, 1)[1] # Tally the number of correct predictions\n",
    "            batch_corr = (predicted == y_train).sum()\n",
    "            trn_corr += batch_corr\n",
    "\n",
    "            optimizer.zero_grad()  # Update parameters\n",
    "            loss.backward()\n",
    "            optimizer.step()\n",
    "            \n",
    "            trn_loss += loss.item()\n",
    "            \n",
    "        train_losses.append(trn_loss)\n",
    "        train_correct.append(trn_corr*100/(batch_size*m))\n",
    "\n",
    "        with torch.no_grad():  # Run the testing batches\n",
    "            for n, (X_test, y_test) in enumerate(test_loader):\n",
    "                if n == max_tst_batch: break  # Limit the number of batches\n",
    "\n",
    "                y_val = CNNmodel(X_test)  # Apply the model\n",
    "                loss = criterion(y_val, y_test)\n",
    "                tst_loss += loss.item()\n",
    "\n",
    "                predicted = torch.max(y_val.data, 1)[1]  # Tally the number of correct predictions\n",
    "                tst_corr += (predicted == y_test).sum()\n",
    "\n",
    "        test_losses.append(tst_loss)\n",
    "        test_correct.append(tst_corr*100/(batch_size*n))\n",
    "\n",
    "        if verbose == True and epoch % print_every== 0: \n",
    "            print('\\n\\nEpoch {}/{}: train loss: {:.4f} | acc: {:.4f}%|   validation loss: {:.4f} | acc: {:.4f}%'\n",
    "                  .format(epoch+1, epochs, trn_loss, trn_corr*100/(batch_size*m), tst_loss, tst_corr*100/(batch_size*n)), end=' ')\n",
    "        if epoch+1 == epochs:\n",
    "            print('\\n\\nFinal Accuracy:{:.4f}%'.format( tst_corr*100/(batch_size*n)))\n",
    "            \n",
    "                # adjust the LEARNING_RATE\n",
    "        if epoch != 0 and epoch % lr_reduce == 0:\n",
    "            LEARNING_RATE = LEARNING_RATE*0.5\n",
    "            optimizer = optim.Adam(CNNmodel.parameters(),lr = LEARNING_RATE)\n",
    "            print('\\n\\n\\nEpoch{}/{}: Set LEARNING_RATE = {:.8f}'.format(epoch+1, epochs, LEARNING_RATE))\n",
    "    \n",
    "        \n",
    "    if verbose == True:        \n",
    "        print('\\nFinished Training  | Time:{}'.format(time.time()-start_time))\n",
    "    if plot_results == True:\n",
    "        plt.figure(figsize=(10,10))\n",
    "        plt.plot(train_losses, label='train loss')\n",
    "        plt.plot(test_losses, label='validation loss')\n",
    "        plt.legend()\n",
    "        plt.xlabel('Epoch')\n",
    "        plt.ylabel('Loss')\n",
    "        plt.draw()\n",
    "        \n",
    "        plt.figure(figsize=(10,10))\n",
    "        plt.plot([t for t in train_correct], label='train accuracy')\n",
    "        plt.plot([t for t in test_correct], label='validation accuracy')\n",
    "        plt.legend()\n",
    "        plt.xlabel('Epoch')\n",
    "        plt.ylabel('Accuracy')\n",
    "        plt.draw()\n",
    "        \n",
    "        return CNNmodel\n",
    "    "
   ]
  },
  {
   "cell_type": "markdown",
   "metadata": {},
   "source": [
    "model architecture"
   ]
  },
  {
   "cell_type": "code",
   "execution_count": 5,
   "metadata": {},
   "outputs": [],
   "source": [
    "import onnx\n",
    "import torch\n",
    "from brevitas.nn import QuantConv2d, QuantIdentity, QuantMaxPool2d, QuantLinear,QuantDropout,QuantReLU\n",
    "from brevitas.core.quant import QuantType\n",
    "import torch.nn as nn\n",
    "from torch import optim"
   ]
  },
  {
   "cell_type": "code",
   "execution_count": 18,
   "metadata": {},
   "outputs": [],
   "source": [
    "\n",
    "class MNIST_1D(nn.Module):\n",
    "    def __init__(self,input_size,num_classes,weight_bit_width,act_bit_width):\n",
    "        super(MNIST_1D,self).__init__()\n",
    "        \n",
    "        self.cnn1 = QuantConv2d(in_channels=input_size,out_channels=16,kernel_size=(9,1),\n",
    "                                padding=0, \n",
    "                                bias=False,weight_bit_width=weight_bit_width)\n",
    "        self.bn_1 = nn.BatchNorm2d(16)\n",
    "        self.relu1 = QuantReLU(bit_width=act_bit_width)\n",
    "        self.maxpool1 = nn.MaxPool2d(kernel_size=(4,1),stride=(4,1))\n",
    "        \n",
    "        self.cnn2 = QuantConv2d(in_channels=16,out_channels=20,kernel_size=(9,1),\n",
    "                                padding=0,\n",
    "                                bias=False,weight_bit_width=weight_bit_width)\n",
    "        self.bn_2 = nn.BatchNorm2d(20)\n",
    "        self.relu2 = QuantReLU(bit_width=act_bit_width)\n",
    "        self.maxpool2 = nn.MaxPool2d(kernel_size=(6,1),stride=(6,1))\n",
    "        \n",
    "        self.cnn3 = QuantConv2d(in_channels=20,out_channels=30,kernel_size=(8,1),\n",
    "                               padding=0,\n",
    "                               bias=False,weight_bit_width=weight_bit_width)\n",
    "        self.relu3 = QuantReLU(bit_width=act_bit_width)\n",
    "        self.maxpool3 = nn.MaxPool2d(kernel_size=(4,1),stride=(4,1))\n",
    "\n",
    "        self.drop1 = QuantDropout(p=0.5)\n",
    "                                  \n",
    "        self.fc1 = QuantLinear(6*30,4*12,bias=False,weight_bit_width=weight_bit_width)\n",
    "        self.relu4 = QuantReLU(bit_width=act_bit_width)\n",
    "        \n",
    "        self.fc2 = QuantLinear(4*12,num_classes,bias=False,weight_bit_width=weight_bit_width)\n",
    "        \n",
    "    def forward(self,x):\n",
    "        x = self.maxpool1(self.relu1(self.bn_1(self.cnn1(x))))\n",
    "        x = self.maxpool2(self.relu2(self.bn_2(self.cnn2(x))))\n",
    "        x = self.maxpool3(self.relu3(self.cnn3(x)))\n",
    "        \n",
    "        x = x.view(x.size(0),-1)\n",
    "        x = self.drop1(x)\n",
    "        x = self.relu4(self.fc1(x))\n",
    "        x = self.fc2(x)\n",
    "        \n",
    "        return x"
   ]
  },
  {
   "cell_type": "code",
   "execution_count": null,
   "metadata": {},
   "outputs": [],
   "source": []
  },
  {
   "cell_type": "code",
   "execution_count": 19,
   "metadata": {},
   "outputs": [],
   "source": [
    "input_size = 1 # 3 input layers for RGB image\n",
    "num_classes = n_classes\n",
    "weight_bit_width = 2\n",
    "act_bit_width = 2\n",
    "\n",
    "brevitas_model = MNIST_1D(input_size=input_size,num_classes=num_classes,\n",
    "                                    weight_bit_width=weight_bit_width,act_bit_width=act_bit_width)"
   ]
  },
  {
   "cell_type": "code",
   "execution_count": 20,
   "metadata": {},
   "outputs": [],
   "source": [
    "LEARNING_RATE = 0.0004\n",
    "optimizer = optim.Adam(brevitas_model.parameters(),lr = LEARNING_RATE)\n",
    "criterion = torch.nn.CrossEntropyLoss()"
   ]
  },
  {
   "cell_type": "code",
   "execution_count": 21,
   "metadata": {},
   "outputs": [],
   "source": [
    "train_loader, test_loader = data_loader(root=path1)"
   ]
  },
  {
   "cell_type": "code",
   "execution_count": null,
   "metadata": {},
   "outputs": [],
   "source": [
    "EPOCHS=10\n",
    "lr_reduce=30\n",
    "trained_classifier = train_model(CNNmodel=brevitas_model,epochs=EPOCHS,\n",
    "                                train_loader=train_loader, test_loader=test_loader,\n",
    "                                criterion = criterion,optimizer = optimizer, \n",
    "                                Batch_Size = BATCH_SIZE,print_every = 5, \n",
    "                                LEARNING_RATE=LEARNING_RATE, lr_reduce=lr_reduce,\n",
    "                                verbose=True,plot_results=True)"
   ]
  },
  {
   "cell_type": "markdown",
   "metadata": {},
   "source": [
    "save parameters and export ONNX model"
   ]
  },
  {
   "cell_type": "code",
   "execution_count": null,
   "metadata": {},
   "outputs": [],
   "source": []
  },
  {
   "cell_type": "code",
   "execution_count": 98,
   "metadata": {},
   "outputs": [],
   "source": [
    "torch.save(brevitas_model.state_dict(),'./multi_model_test/save_model/model_1D_parameter_784.pth')"
   ]
  },
  {
   "cell_type": "code",
   "execution_count": 15,
   "metadata": {},
   "outputs": [],
   "source": [
    "import brevitas.onnx as bo"
   ]
  },
  {
   "cell_type": "code",
   "execution_count": null,
   "metadata": {},
   "outputs": [],
   "source": [
    "export_onnx_path=\"./multi_model_test/save_model/model_1D_784.onnx\"\n",
    "input_shape=(1,1,784,1)\n",
    "bo.export_finn_onnx(brevitas_model, input_shape, export_onnx_path)"
   ]
  },
  {
   "cell_type": "code",
   "execution_count": null,
   "metadata": {},
   "outputs": [],
   "source": []
  }
 ],
 "metadata": {
  "kernelspec": {
   "display_name": "Python 3",
   "language": "python",
   "name": "python3"
  },
  "language_info": {
   "codemirror_mode": {
    "name": "ipython",
    "version": 3
   },
   "file_extension": ".py",
   "mimetype": "text/x-python",
   "name": "python",
   "nbconvert_exporter": "python",
   "pygments_lexer": "ipython3",
   "version": "3.8.5"
  }
 },
 "nbformat": 4,
 "nbformat_minor": 5
}
