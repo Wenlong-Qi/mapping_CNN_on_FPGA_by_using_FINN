{
 "cells": [
  {
   "cell_type": "markdown",
   "metadata": {},
   "source": [
    "# 1. Environment Setting"
   ]
  },
  {
   "cell_type": "code",
   "execution_count": 1,
   "metadata": {},
   "outputs": [
    {
     "name": "stdout",
     "output_type": "stream",
     "text": [
      "Defaulting to user installation because normal site-packages is not writeable\n",
      "Collecting opencv-python-headless\n",
      "  Downloading opencv_python_headless-4.5.3.56-cp38-cp38-manylinux2014_x86_64.whl (37.1 MB)\n",
      "\u001b[K     |████████████████████████████████| 37.1 MB 358 kB/s eta 0:00:01    |███████▌                        | 8.7 MB 1.6 MB/s eta 0:00:18     |████████████████                | 18.5 MB 1.4 MB/s eta 0:00:14\n",
      "\u001b[?25hRequirement already satisfied: numpy>=1.17.3 in /opt/conda/lib/python3.8/site-packages (from opencv-python-headless) (1.21.0)\n",
      "Installing collected packages: opencv-python-headless\n",
      "Successfully installed opencv-python-headless-4.5.3.56\n",
      "Note: you may need to restart the kernel to use updated packages.\n"
     ]
    }
   ],
   "source": [
    "#pip install opencv-python-headless"
   ]
  },
  {
   "cell_type": "code",
   "execution_count": 1,
   "metadata": {},
   "outputs": [],
   "source": [
    "import numpy as np\n",
    "import random\n",
    "import math\n",
    "import sys\n",
    "import os\n",
    "#import cv2\n",
    "import matplotlib.pyplot as plt\n",
    "import scipy\n",
    "from sklearn.model_selection import train_test_split\n",
    "from shutil import copy\n",
    "from sklearn.metrics import confusion_matrix\n",
    "import time"
   ]
  },
  {
   "cell_type": "markdown",
   "metadata": {},
   "source": [
    "# 2. Data Processing"
   ]
  },
  {
   "cell_type": "code",
   "execution_count": 30,
   "metadata": {},
   "outputs": [],
   "source": [
    "#run only once for data_split\n",
    "\n",
    "'''\n",
    "\n",
    "# Organize sign_lang data set for training\n",
    "split_root = \"./Sign-Language-Digits-Dataset/Dataset\"\n",
    "dest_root = \"./Dataset\"\n",
    "\n",
    "def sl_data_split(split_root , dest_root):\n",
    "    for letter in  os.listdir(os.path.join(split_root)):\n",
    "        for cnt,img in enumerate(os.listdir(os.path.join(split_root,letter))):\n",
    "            img_str = letter + '-' + img\n",
    "            if cnt/len(os.listdir(os.path.join(split_root,letter))) < 0.8:  # split up for training and testing\n",
    "                if not os.path.exists(os.path.join(dest_root,'train',letter,img_str)):\n",
    "                    copy(os.path.join(split_root,letter,img), os.path.join(dest_root,'train',letter,img_str))\n",
    "            else:\n",
    "                if not os.path.exists(os.path.join(dest_root,'test',letter,img_str)):\n",
    "                    copy(os.path.join(split_root,letter,img), os.path.join(dest_root,'test',letter,img_str))\n",
    "                    \n",
    "make_dataset = sl_data_split(split_root=split_root, dest_root=dest_root)\n",
    "\n",
    "'''"
   ]
  },
  {
   "cell_type": "markdown",
   "metadata": {},
   "source": [
    "pre-process the images"
   ]
  },
  {
   "cell_type": "code",
   "execution_count": 2,
   "metadata": {},
   "outputs": [],
   "source": [
    "from torch.utils.data import DataLoader\n",
    "from torchvision import datasets, transforms, models\n",
    "\n",
    "BATCH_SIZE = 32\n",
    "path1 = \"./Dataset\"\n",
    "classes = ['0', '1', '2', '3', '4', '5','6','7','8','9']\n",
    "n_classes = len(classes)\n",
    "\n",
    "def data_loader(root=path1):\n",
    "        # Define image transforms\n",
    "    train_transform = transforms.Compose([\n",
    "            transforms.RandomHorizontalFlip(),  # reverse 50% of images\n",
    "            #transforms.RandomRotation(10),      # up to 10 degrees of random rotation\n",
    "            transforms.Resize((32,32)),\n",
    "            transforms.ToTensor(),\n",
    "            #transforms.Normalize([0.5, 0.5, 0.5],     # standard normalization values\n",
    "             #                    [0.5, 0.5, 0.5])\n",
    "            ])   \n",
    "\n",
    "\n",
    "    test_transform = transforms.Compose([\n",
    "            transforms.Resize((32,32)),\n",
    "            transforms.ToTensor(),\n",
    "            #transforms.Normalize([0.5, 0.5, 0.5],     # standard normalization values\n",
    "             #                    [0.5, 0.5, 0.5])\n",
    "            ])\n",
    "\n",
    "    train_data = datasets.ImageFolder(os.path.join(root, 'train'), transform=train_transform)\n",
    "    test_data = datasets.ImageFolder(os.path.join(root, 'test'), transform=test_transform)\n",
    "\n",
    "\n",
    "    #train_loader = DataLoader(train_data, batch_size=BATCH_SIZE, shuffle=True, pin_memory=True, num_workers=2)\n",
    "    #test_loader = DataLoader(test_data, batch_size=BATCH_SIZE, shuffle=True, pin_memory=True, num_workers=2)\n",
    "    train_loader = DataLoader(train_data, batch_size=BATCH_SIZE, shuffle=True)\n",
    "    test_loader = DataLoader(test_data, batch_size=BATCH_SIZE, shuffle=True)\n",
    "    \n",
    "    return train_loader, test_loader"
   ]
  },
  {
   "cell_type": "markdown",
   "metadata": {},
   "source": [
    "check dataset"
   ]
  },
  {
   "cell_type": "code",
   "execution_count": null,
   "metadata": {},
   "outputs": [],
   "source": [
    "n = 32\n",
    "cnt = 0\n",
    "\n",
    "for m, (X_train, y_train) in enumerate(train_loader): \n",
    "    #if m == n:\n",
    "        #print(X_train)\n",
    "        #print(y_train)\n",
    "    if cnt>=1: \n",
    "        break    \n",
    "    img = X_train[0]   \n",
    "    img = img.numpy()   \n",
    "    img = np.transpose(img, (1,2,0))    \n",
    "\n",
    "    plt.imshow(img)\n",
    "    plt.show()\n",
    "    print(X_train*255)\n",
    "    print(y_train)\n",
    "    print(X_train.shape)\n",
    "    print(y_train.shape)\n",
    "    cnt += 1"
   ]
  },
  {
   "cell_type": "markdown",
   "metadata": {},
   "source": [
    "# 3. Training Function"
   ]
  },
  {
   "cell_type": "code",
   "execution_count": 3,
   "metadata": {},
   "outputs": [],
   "source": [
    "import sklearn \n",
    "from sklearn.metrics import accuracy_score\n",
    "from sklearn.metrics import classification_report\n",
    "\n",
    "def train_model(CNNmodel,epochs,train_loader,test_loader,criterion,optimizer,Batch_Size=20,print_every = 10, verbose=True,plot_results=True):\n",
    "    \n",
    "    start_time = time.time()\n",
    "    batch_size = Batch_Size\n",
    "    max_trn_batch = 800  # Limits very large datasets\n",
    "    max_tst_batch = 300\n",
    "    train_losses = []\n",
    "    test_losses = []\n",
    "    train_correct = []\n",
    "    test_correct = []\n",
    "    losses=[]\n",
    "    \n",
    "    print('Training for {} epochs...\\n'.format(epochs))\n",
    "    \n",
    "    for epoch in range(epochs):\n",
    "        trn_corr = 0\n",
    "        tst_corr = 0\n",
    "        trn_loss = 0\n",
    "        tst_loss = 0\n",
    "        for m, (X_train, y_train) in enumerate(train_loader): # Run the training batches\n",
    "            # Limit the number of batches\n",
    "            if m == max_trn_batch: break\n",
    "            m+=1\n",
    "\n",
    "            y_pred = CNNmodel(X_train)  # Apply the model\n",
    "            loss = criterion(y_pred, y_train)\n",
    "            \n",
    "            predicted = torch.max(y_pred.data, 1)[1] # Tally the number of correct predictions\n",
    "            batch_corr = (predicted == y_train).sum()\n",
    "            trn_corr += batch_corr\n",
    "\n",
    "            optimizer.zero_grad()  # Update parameters\n",
    "            loss.backward()\n",
    "            optimizer.step()\n",
    "            \n",
    "            trn_loss += loss.item()\n",
    "            \n",
    "        train_losses.append(trn_loss)\n",
    "        train_correct.append(trn_corr*100/(batch_size*m))\n",
    "\n",
    "        with torch.no_grad():  # Run the testing batches\n",
    "            for n, (X_test, y_test) in enumerate(test_loader):\n",
    "                if n == max_tst_batch: break  # Limit the number of batches\n",
    "\n",
    "                y_val = CNNmodel(X_test)  # Apply the model\n",
    "                loss = criterion(y_val, y_test)\n",
    "                tst_loss += loss.item()\n",
    "\n",
    "                predicted = torch.max(y_val.data, 1)[1]  # Tally the number of correct predictions\n",
    "                tst_corr += (predicted == y_test).sum()\n",
    "\n",
    "        test_losses.append(tst_loss)\n",
    "        test_correct.append(tst_corr*100/(batch_size*n))\n",
    "\n",
    "        if verbose == True and epoch % print_every== 0: \n",
    "            print('\\n\\nEpoch {}/{}: train loss: {:.4f} | acc: {:.4f}%|   validation loss: {:.4f} | acc: {:.4f}%'\n",
    "                  .format(epoch+1, epochs, trn_loss, trn_corr*100/(batch_size*m), tst_loss, tst_corr*100/(batch_size*n)), end=' ')\n",
    "        if epoch == epochs:\n",
    "            print('\\n\\nFinal Accuracy:{:.4f}%'.format( tst_corr*100/(batch_size*n)))\n",
    "        \n",
    "    if verbose == True:        \n",
    "        print('\\nFinished Training  | Time:{}'.format(time.time()-start_time))\n",
    "    if plot_results == True:\n",
    "        plt.figure(figsize=(10,10))\n",
    "        plt.plot(train_losses, label='train loss')\n",
    "        plt.plot(test_losses, label='validation loss')\n",
    "        plt.legend()\n",
    "        plt.xlabel('Epoch')\n",
    "        plt.ylabel('Loss')\n",
    "        plt.draw()\n",
    "        \n",
    "        plt.figure(figsize=(10,10))\n",
    "        plt.plot([t for t in train_correct], label='train accuracy')\n",
    "        plt.plot([t for t in test_correct], label='validation accuracy')\n",
    "        plt.legend()\n",
    "        plt.xlabel('Epoch')\n",
    "        plt.ylabel('Accuracy')\n",
    "        plt.draw()\n",
    "        \n",
    "        return CNNmodel\n",
    "    "
   ]
  },
  {
   "cell_type": "markdown",
   "metadata": {},
   "source": [
    "# 4. Model Architecture"
   ]
  },
  {
   "cell_type": "code",
   "execution_count": 4,
   "metadata": {},
   "outputs": [],
   "source": [
    "import onnx\n",
    "import torch\n",
    "from brevitas.nn import QuantConv2d, QuantIdentity, QuantMaxPool2d, QuantLinear,QuantDropout,QuantReLU\n",
    "from brevitas.core.quant import QuantType\n",
    "import torch.nn as nn\n",
    "from torch import optim"
   ]
  },
  {
   "cell_type": "code",
   "execution_count": null,
   "metadata": {},
   "outputs": [],
   "source": []
  },
  {
   "cell_type": "code",
   "execution_count": 5,
   "metadata": {},
   "outputs": [],
   "source": [
    "# LeNet \n",
    "\n",
    "class Gesture_Recognizer(nn.Module):\n",
    "    def __init__(self,input_size,num_classes,weight_bit_width,act_bit_width):\n",
    "        super(Gesture_Recognizer,self).__init__()\n",
    "        \n",
    "        self.cnn1 = QuantConv2d(in_channels=input_size,out_channels=6,kernel_size=5,\n",
    "                                padding=0,bias=False,weight_bit_width=weight_bit_width)\n",
    "        self.relu1 = QuantReLU(bit_width=act_bit_width)\n",
    "        self.maxpool1 = nn.MaxPool2d(kernel_size=2,stride=None)\n",
    "        \n",
    "        self.cnn2 = QuantConv2d(in_channels=6,out_channels=16,kernel_size=5,\n",
    "                                padding=0,bias=False,weight_bit_width=weight_bit_width)\n",
    "        self.relu2 = QuantReLU(bit_width=act_bit_width)\n",
    "        self.maxpool2 = nn.MaxPool2d(kernel_size=2,stride=None)\n",
    "        \n",
    "        self.cnn3 = QuantConv2d(in_channels=16,out_channels=120,kernel_size=5,\n",
    "                                padding=0,bias=False,weight_bit_width=weight_bit_width)\n",
    "        self.relu3 = QuantReLU(bit_width=act_bit_width)\n",
    "        \n",
    "        \n",
    "        self.drop1 = QuantDropout(p=0.5)\n",
    "        \n",
    "        self.fc1 = QuantLinear(1*1*120,64,bias=False,weight_bit_width=weight_bit_width)\n",
    "        self.relu6 = QuantReLU(bit_width=act_bit_width)\n",
    "        \n",
    "        self.fc2 = QuantLinear(64,num_classes,bias=False,weight_bit_width=weight_bit_width)\n",
    "        self.relu7 = QuantReLU(bit_width=act_bit_width)\n",
    "        \n",
    "    def forward(self,x):\n",
    "        x = self.maxpool1(self.relu1(self.cnn1(x)))\n",
    "        x = self.maxpool2(self.relu2(self.cnn2(x)))\n",
    "        x = self.relu3(self.cnn3(x))\n",
    "        \n",
    "        x = x.view(x.size(0),-1)\n",
    "        x = self.drop1(x)\n",
    "        x = self.relu6(self.fc1(x))\n",
    "        x = self.relu7(self.fc2(x))\n",
    "        \n",
    "        return x"
   ]
  },
  {
   "cell_type": "markdown",
   "metadata": {},
   "source": [
    "set parameetrs and train the model"
   ]
  },
  {
   "cell_type": "code",
   "execution_count": 23,
   "metadata": {},
   "outputs": [],
   "source": [
    "input_size = 3 # 3 input layers for RGB image\n",
    "num_classes = n_classes\n",
    "weight_bit_width = 4  # change bit width for parameters\n",
    "act_bit_width = 4\n",
    "\n",
    "brevitas_model = Gesture_Recognizer(input_size=input_size,num_classes=num_classes,\n",
    "                                    weight_bit_width=weight_bit_width,act_bit_width=act_bit_width)"
   ]
  },
  {
   "cell_type": "code",
   "execution_count": 24,
   "metadata": {},
   "outputs": [],
   "source": [
    "LEARNING_RATE = 0.0002\n",
    "optimizer = optim.Adam(brevitas_model.parameters(),lr = LEARNING_RATE)\n",
    "criterion = torch.nn.CrossEntropyLoss()"
   ]
  },
  {
   "cell_type": "code",
   "execution_count": 25,
   "metadata": {},
   "outputs": [],
   "source": [
    "train_loader, test_loader = data_loader(root=path1)"
   ]
  },
  {
   "cell_type": "code",
   "execution_count": null,
   "metadata": {},
   "outputs": [],
   "source": [
    "EPOCHS=500\n",
    "trained_classifier = train_model(CNNmodel=brevitas_model,epochs=EPOCHS,train_loader=train_loader, test_loader=test_loader,\n",
    "                                criterion = criterion,optimizer = optimizer, \n",
    "                                Batch_Size = BATCH_SIZE,print_every = 20, verbose=True,plot_results=True)"
   ]
  },
  {
   "cell_type": "code",
   "execution_count": null,
   "metadata": {},
   "outputs": [],
   "source": []
  },
  {
   "cell_type": "markdown",
   "metadata": {},
   "source": [
    "# Save parameters and Export ONNX model"
   ]
  },
  {
   "cell_type": "code",
   "execution_count": 21,
   "metadata": {},
   "outputs": [],
   "source": [
    "torch.save(brevitas_model.state_dict(),'./save/LeNet_model_parameter_W4A4.pth')"
   ]
  },
  {
   "cell_type": "code",
   "execution_count": 11,
   "metadata": {},
   "outputs": [],
   "source": [
    "import brevitas.onnx as bo"
   ]
  },
  {
   "cell_type": "code",
   "execution_count": null,
   "metadata": {},
   "outputs": [],
   "source": [
    "export_onnx_path=\"./save/LeNet_brevitas_W4A4.onnx\"\n",
    "input_shape=(1,3,32,32)\n",
    "bo.export_finn_onnx(brevitas_model, input_shape, export_onnx_path)"
   ]
  },
  {
   "cell_type": "code",
   "execution_count": null,
   "metadata": {},
   "outputs": [],
   "source": []
  }
 ],
 "metadata": {
  "kernelspec": {
   "display_name": "Python 3",
   "language": "python",
   "name": "python3"
  },
  "language_info": {
   "codemirror_mode": {
    "name": "ipython",
    "version": 3
   },
   "file_extension": ".py",
   "mimetype": "text/x-python",
   "name": "python",
   "nbconvert_exporter": "python",
   "pygments_lexer": "ipython3",
   "version": "3.8.5"
  }
 },
 "nbformat": 4,
 "nbformat_minor": 5
}
