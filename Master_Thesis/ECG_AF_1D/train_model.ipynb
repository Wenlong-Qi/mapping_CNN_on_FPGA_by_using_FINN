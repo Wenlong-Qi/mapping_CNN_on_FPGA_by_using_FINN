{
 "cells": [
  {
   "cell_type": "code",
   "execution_count": 1,
   "metadata": {},
   "outputs": [],
   "source": [
    "import sys\n",
    "import argparse\n",
    "from os.path import join\n",
    "import os\n",
    "\n",
    "import pickle\n",
    "from sklearn.model_selection import train_test_split\n",
    "\n",
    "import torch\n",
    "import numpy as np\n",
    "import pandas as pd\n",
    "import matplotlib.pyplot as plt\n",
    "from sklearn.metrics import classification_report\n",
    "from sklearn.model_selection import train_test_split\n",
    "from sklearn.metrics import f1_score\n",
    "from sklearn.metrics import confusion_matrix\n",
    "from sklearn.utils import class_weight\n",
    "import warnings\n",
    "import struct\n",
    "import time\n",
    "from sklearn import preprocessing"
   ]
  },
  {
   "cell_type": "markdown",
   "metadata": {},
   "source": [
    "Quantization function for input data"
   ]
  },
  {
   "cell_type": "code",
   "execution_count": 2,
   "metadata": {},
   "outputs": [],
   "source": [
    "def Quant(Vx, Q, RQM):\n",
    "    return round(Q * Vx) - RQM\n",
    "\n",
    "\n",
    "def ListQuant(data_list, quant_bits):\n",
    "    \n",
    "    data_min = min(data_list)\n",
    "    data_max = max(data_list)\n",
    "\n",
    "    \n",
    "    Q = ((1 << quant_bits) - 1) * 1.0 / (data_max - data_min)\n",
    "    RQM = (int)(round(Q*data_min))\n",
    "\n",
    "    \n",
    "    quant_data_list = []\n",
    "    for x in data_list:\n",
    "        quant_data = Quant(x, Q, RQM)\n",
    "        quant_data_list.append(quant_data)\n",
    "    quant_data_list = np.array(quant_data_list)\n",
    "    return (Q, RQM, quant_data_list)"
   ]
  },
  {
   "cell_type": "markdown",
   "metadata": {},
   "source": [
    "read and preprocess the data"
   ]
  },
  {
   "cell_type": "code",
   "execution_count": 3,
   "metadata": {},
   "outputs": [],
   "source": [
    "from torch.utils.data.dataset import Dataset\n",
    "from torch.utils.data.dataloader import DataLoader\n",
    "\n",
    "class ReadDataset(Dataset):\n",
    "    def __init__(self, csv_path):\n",
    "        self.data_info = pd.read_csv(csv_path, header = None)\n",
    "        self.ecg_arr = np.asarray(self.data_info.iloc[:, 0]) # read csv filename\n",
    "        self.label_arr = preprocessing.LabelEncoder().fit_transform(np.asarray(self.data_info.iloc[:, 1])) # read labels     \n",
    "        self.data_len = len(self.data_info.index) # calculate length\n",
    "        \n",
    "    def __getitem__(self, index):\n",
    "        single_ecg_name = self.ecg_arr[index] # get filename\n",
    "        \n",
    "        ecg_raw_data = (open(os.path.join('./simplified_atrial_fibrillation/',single_ecg_name),'rb')).read() # read ecg file\n",
    "        ecg_data = []\n",
    "        for t in (range(0,len(ecg_raw_data),4)):\n",
    "            ecg_data.append((struct.unpack('h',ecg_raw_data[t:t+2]))[0])\n",
    "            \n",
    "        ecg_Q, ecg_RQM, ecg_Quantdata = ListQuant(ecg_data,quant_bits=8) #quant to 8 bit\n",
    "        \n",
    "        # 1D to 2D, and divide 255\n",
    "        data_resize=ecg_Quantdata\n",
    "        data_resize=np.float32((np.trunc(data_resize))/255.0)\n",
    "        data_resize.resize((5250+12,1),refcheck=False) # padding 12\n",
    "        #data_resize = np.expand_dims(data_resize, axis = 1)\n",
    "        data_resize = np.expand_dims(data_resize, axis = 0)\n",
    "        \n",
    "        data = data_resize\n",
    "        \n",
    "        label = self.label_arr[index]\n",
    "        return(data, label)\n",
    "    \n",
    "    def __len__(self):\n",
    "        return self.data_len\n",
    "    "
   ]
  },
  {
   "cell_type": "code",
   "execution_count": null,
   "metadata": {},
   "outputs": [],
   "source": []
  },
  {
   "cell_type": "code",
   "execution_count": 4,
   "metadata": {},
   "outputs": [],
   "source": [
    "csv_path = \"./simplified_atrial_fibrillation/train.csv\"\n",
    "read_dataset = ReadDataset(csv_path)\n",
    "train_loader = DataLoader(dataset=read_dataset, batch_size=5,shuffle=False)"
   ]
  },
  {
   "cell_type": "code",
   "execution_count": 5,
   "metadata": {
    "scrolled": true
   },
   "outputs": [
    {
     "name": "stdout",
     "output_type": "stream",
     "text": [
      "tensor([[[0.4157],\n",
      "         [0.4196],\n",
      "         [0.4000],\n",
      "         ...,\n",
      "         [0.0000],\n",
      "         [0.0000],\n",
      "         [0.0000]]])\n",
      "0.5058824\n",
      "torch.Size([5, 1, 5262, 1])\n",
      "tensor(0)\n",
      "torch.Size([1, 5262, 1])\n"
     ]
    }
   ],
   "source": [
    "cnt = 0\n",
    "\n",
    "for m, (X_train, y_train) in enumerate(train_loader): \n",
    "    if cnt>=1: \n",
    "        break  \n",
    "    print((X_train[0]))\n",
    "    print(np.median(X_train))\n",
    "    print((X_train.shape))\n",
    "    print(y_train[0])\n",
    "    print(X_train[0].shape)\n",
    "    cnt += 1"
   ]
  },
  {
   "cell_type": "code",
   "execution_count": null,
   "metadata": {},
   "outputs": [],
   "source": []
  },
  {
   "cell_type": "code",
   "execution_count": 6,
   "metadata": {},
   "outputs": [],
   "source": [
    "csv_path = \"./simplified_atrial_fibrillation/\"\n",
    "BATCH_SIZE = 512\n",
    "\n",
    "def Data_Loader(root=csv_path,Batch_Size=BATCH_SIZE):\n",
    "    \n",
    "    read_train_dataset = ReadDataset(os.path.join(csv_path,'train.csv'))\n",
    "    train_loader = DataLoader(dataset=read_train_dataset, batch_size=BATCH_SIZE,shuffle=True)\n",
    "    \n",
    "    read_val_dataset = ReadDataset(os.path.join(csv_path,'validation.csv'))\n",
    "    val_loader = DataLoader(dataset=read_val_dataset, batch_size=BATCH_SIZE,shuffle=True)\n",
    "    \n",
    "    read_test_dataset = ReadDataset(os.path.join(csv_path,'test.csv'))\n",
    "    test_loader = DataLoader(dataset=read_test_dataset, batch_size=BATCH_SIZE,shuffle=True)\n",
    "    \n",
    "    return train_loader, val_loader, test_loader\n",
    "    "
   ]
  },
  {
   "cell_type": "markdown",
   "metadata": {},
   "source": [
    "train and evaluation functions"
   ]
  },
  {
   "cell_type": "code",
   "execution_count": 7,
   "metadata": {},
   "outputs": [],
   "source": [
    "import sklearn \n",
    "from sklearn.metrics import accuracy_score\n",
    "from sklearn.metrics import classification_report\n",
    "\n",
    "def train_model(CNNmodel,epochs,train_loader,test_loader,criterion,optimizer,Batch_Size=20,print_every = 10, \n",
    "                LEARNING_RATE=0.001, lr_reduce=50, verbose=True,plot_results=True):\n",
    "    \n",
    "    start_time = time.time()\n",
    "    batch_size = Batch_Size\n",
    "    max_trn_batch = 800  # Limits very large datasets\n",
    "    max_tst_batch = 300\n",
    "    train_losses = []\n",
    "    test_losses = []\n",
    "    train_correct = []\n",
    "    test_correct = []\n",
    "    losses=[]\n",
    "    \n",
    "    print('Training for {} epochs...\\n'.format(epochs))\n",
    "    \n",
    "    for epoch in range(epochs):\n",
    "        trn_corr = 0\n",
    "        tst_corr = 0\n",
    "        trn_loss = 0\n",
    "        tst_loss = 0\n",
    "        for m, (X_train, y_train) in enumerate(train_loader): # Run the training batches\n",
    "            # Limit the number of batches\n",
    "            if m == max_trn_batch: break\n",
    "            m+=1\n",
    "\n",
    "            y_pred = CNNmodel(X_train)  # Apply the model\n",
    "            loss = criterion(y_pred, y_train)\n",
    "            \n",
    "            predicted = torch.max(y_pred.data, 1)[1] # Tally the number of correct predictions\n",
    "            batch_corr = (predicted == y_train).sum()\n",
    "            trn_corr += batch_corr\n",
    "\n",
    "            optimizer.zero_grad()  # Update parameters\n",
    "            loss.backward()\n",
    "            optimizer.step()\n",
    "            \n",
    "            trn_loss += loss.item()\n",
    "            \n",
    "        train_losses.append(trn_loss)\n",
    "        train_correct.append(trn_corr*100/(batch_size*m))\n",
    "\n",
    "        with torch.no_grad():  # Run the testing batches\n",
    "            for n, (X_test, y_test) in enumerate(test_loader):\n",
    "                if n == max_tst_batch: break  # Limit the number of batches\n",
    "\n",
    "                y_val = CNNmodel(X_test)  # Apply the model\n",
    "                loss = criterion(y_val, y_test)\n",
    "                tst_loss += loss.item()\n",
    "\n",
    "                predicted = torch.max(y_val.data, 1)[1]  # Tally the number of correct predictions\n",
    "                tst_corr += (predicted == y_test).sum()\n",
    "\n",
    "        test_losses.append(tst_loss)\n",
    "        test_correct.append(tst_corr*100/(batch_size*n))\n",
    "        \n",
    "        if verbose == True and epoch % print_every== 0: \n",
    "            print('\\n\\nEpoch {}/{}: train loss: {:.4f} | acc: {:.4f}%|   validation loss: {:.4f} | acc: {:.4f}%'\n",
    "                  .format(epoch+1, epochs, trn_loss, trn_corr*100/(batch_size*m), tst_loss, tst_corr*100/(batch_size*n)), end=' ')\n",
    "        if epoch+1 == epochs:\n",
    "            print('\\n\\nFinal Accuracy:{:.4f}%'.format( tst_corr*100/(batch_size*n)))\n",
    "    \n",
    "                # adjust the LEARNING_RATE\n",
    "        if epoch != 0 and epoch % lr_reduce == 0:\n",
    "            LEARNING_RATE = LEARNING_RATE*0.5\n",
    "            optimizer = optim.Adam(CNNmodel.parameters(),lr = LEARNING_RATE)\n",
    "#            for param_group in optimizer.param_groups:\n",
    "#                param_group['lr'] = LEARNING_RATE\n",
    "            print('\\n\\n\\nEpoch{}/{}: Set LEARNING_RATE = {:.8f}'.format(epoch+1, epochs, LEARNING_RATE))\n",
    "    \n",
    "    \n",
    "        \n",
    "    if verbose == True:        \n",
    "        print('\\nFinished Training  | Time:{}'.format(time.time()-start_time))\n",
    "    if plot_results == True:\n",
    "        plt.figure(figsize=(10,10))\n",
    "        plt.plot(train_losses, label='train loss')\n",
    "        plt.plot(test_losses, label='validation loss')\n",
    "        plt.legend()\n",
    "        plt.xlabel('Epoch')\n",
    "        plt.ylabel('Loss')\n",
    "        plt.draw()\n",
    "        \n",
    "        plt.figure(figsize=(10,10))\n",
    "        plt.plot([t for t in train_correct], label='train accuracy')\n",
    "        plt.plot([t for t in test_correct], label='validation accuracy')\n",
    "        plt.legend()\n",
    "        plt.xlabel('Epoch')\n",
    "        plt.ylabel('Accuracy')\n",
    "        plt.draw()\n",
    "        \n",
    "        return CNNmodel"
   ]
  },
  {
   "cell_type": "code",
   "execution_count": null,
   "metadata": {},
   "outputs": [],
   "source": []
  },
  {
   "cell_type": "markdown",
   "metadata": {},
   "source": [
    "Model architecture"
   ]
  },
  {
   "cell_type": "code",
   "execution_count": 8,
   "metadata": {},
   "outputs": [],
   "source": [
    "import onnx\n",
    "import torch\n",
    "from brevitas.nn import QuantConv2d, QuantIdentity, QuantMaxPool2d, QuantLinear,QuantDropout,QuantReLU,QuantSigmoid\n",
    "from brevitas.core.quant import QuantType, BinaryQuant, TernaryQuant\n",
    "from brevitas.core.scaling import ConstScaling\n",
    "from brevitas.quant import SignedTernaryActPerTensorConst,SignedBinaryActPerTensorConst\n",
    "import torch.nn as nn\n",
    "from torch import optim"
   ]
  },
  {
   "cell_type": "code",
   "execution_count": 9,
   "metadata": {},
   "outputs": [],
   "source": [
    "# no padding for 1D cnn, it may lead to error\n",
    "\n",
    "class ECG_AF_1D(nn.Module):\n",
    "    def __init__(self,input_size,num_classes,weight_bit_width,act_bit_width):\n",
    "        super(ECG_AF_1D,self).__init__()\n",
    "        \n",
    "        self.cnn_1 = QuantConv2d(in_channels=input_size,out_channels=6,kernel_size=(9,1),stride=(3,1),\n",
    "                                padding=(0,0),\n",
    "                                bias=False,weight_bit_width=weight_bit_width)\n",
    "        self.bn_1 = nn.BatchNorm2d(6)\n",
    "        self.relu_1 = QuantReLU(bit_width=act_bit_width)\n",
    "        self.maxpool_1 = nn.MaxPool2d(kernel_size=(6,1),stride=(6,1))\n",
    "        \n",
    "        self.cnn_d2 = QuantConv2d(in_channels=6,out_channels=6,kernel_size=(6,1),\n",
    "                                 padding=0,groups=6,\n",
    "                                 bias=False,weight_bit_width=weight_bit_width)\n",
    "        self.bn_d2 = nn.BatchNorm2d(6)\n",
    "        self.relu_d2 = QuantReLU(bit_width=act_bit_width)\n",
    "        self.cnn_2 = QuantConv2d(in_channels=6,out_channels=5,kernel_size=(1,1),\n",
    "                                padding=0,\n",
    "                                bias=False,weight_bit_width=weight_bit_width)\n",
    "        self.bn_2 = nn.BatchNorm2d(5)\n",
    "        self.relu_2 = QuantReLU(bit_width=act_bit_width)\n",
    "        \n",
    "        self.cnn_d3 = QuantConv2d(in_channels=5,out_channels=5,kernel_size=(6,1),\n",
    "                                 padding=0,groups=5,\n",
    "                                 bias=False,weight_bit_width=weight_bit_width)\n",
    "        self.bn_d3 = nn.BatchNorm2d(5)\n",
    "        self.relu_d3 = QuantReLU(bit_width=act_bit_width)\n",
    "        self.cnn_3 = QuantConv2d(in_channels=5,out_channels=5,kernel_size=(1,1),\n",
    "                                padding=0,\n",
    "                                bias=False,weight_bit_width=weight_bit_width)\n",
    "        self.bn_3 = nn.BatchNorm2d(5)\n",
    "        self.relu_3 = QuantReLU(bit_width=act_bit_width)\n",
    "        self.maxpool_3 = nn.MaxPool2d(kernel_size=(3,1),stride=(3,1)) \n",
    "     \n",
    "        self.cnn_d4 = QuantConv2d(in_channels=5,out_channels=5,kernel_size=(5,1),\n",
    "                                 padding=0,groups=5,\n",
    "                                 bias=False,weight_bit_width=weight_bit_width)\n",
    "        self.bn_d4 = nn.BatchNorm2d(5)\n",
    "        self.relu_d4 = QuantReLU(bit_width=act_bit_width)\n",
    "        self.cnn_4 = QuantConv2d(in_channels=5,out_channels=3,kernel_size=(1,1),\n",
    "                                padding=0,\n",
    "                                bias=False,weight_bit_width=weight_bit_width)\n",
    "        self.bn_4 = nn.BatchNorm2d(3)\n",
    "        self.relu_4 = QuantReLU(bit_width=act_bit_width)\n",
    "        self.maxpool_4 = nn.MaxPool2d(kernel_size=(6,1),stride=(6,1))\n",
    "        self.maxpool_5 = nn.MaxPool2d(kernel_size=(3,1),stride=(3,1))\n",
    "        \n",
    "        self.drop = QuantDropout(p=0.5)\n",
    "        self.dense =QuantLinear(5*3,num_classes,bias=False,weight_bit_width=weight_bit_width)\n",
    "        self.bn_5 = nn.BatchNorm1d(2)\n",
    "        self.relu_5 = QuantReLU(bit_width=act_bit_width)\n",
    "        \n",
    "    def forward(self,x):\n",
    "        \n",
    "        x = self.relu_1(self.bn_1(self.cnn_1(x)))\n",
    "        x = self.maxpool_1(x)\n",
    "            \n",
    "        x = self.relu_d2(self.bn_d2(self.cnn_d2(x)))\n",
    "        x = self.relu_2(self.bn_2(self.cnn_2(x)))\n",
    "\n",
    "        x = self.relu_d3(self.bn_d3(self.cnn_d3(x)))\n",
    "        x = self.relu_3(self.bn_3(self.cnn_3(x)))\n",
    "        x = self.maxpool_3(x)\n",
    "        \n",
    "        x = self.relu_d4(self.bn_d4(self.cnn_d4(x)))\n",
    "        x = self.relu_4(self.bn_4(self.cnn_4(x)))\n",
    "        x = self.maxpool_4(x)\n",
    "        x = self.maxpool_5(x)\n",
    "            \n",
    "        x = x.view(x.size(0),-1)\n",
    "        x = self.drop(x)\n",
    "        x = self.dense(x)\n",
    "        x = self.bn_5(x)\n",
    "        x = self.relu_5(x)\n",
    "\n",
    "        return x"
   ]
  },
  {
   "cell_type": "code",
   "execution_count": null,
   "metadata": {},
   "outputs": [],
   "source": []
  },
  {
   "cell_type": "code",
   "execution_count": 27,
   "metadata": {},
   "outputs": [],
   "source": [
    "classes = ['atrial_fibrillation', 'sinus']\n",
    "n_classes = len(classes)\n",
    "\n",
    "input_size = 1 \n",
    "num_classes = n_classes\n",
    "weight_bit_width = 2\n",
    "act_bit_width = 2\n",
    "\n",
    "brevitas_model = ECG_AF_1D(input_size=input_size,num_classes=num_classes,\n",
    "                                    weight_bit_width=weight_bit_width,act_bit_width=act_bit_width)"
   ]
  },
  {
   "cell_type": "code",
   "execution_count": 28,
   "metadata": {},
   "outputs": [],
   "source": [
    "LEARNING_RATE = 0.01\n",
    "optimizer = optim.Adam(brevitas_model.parameters(),lr = LEARNING_RATE)\n",
    "criterion = torch.nn.CrossEntropyLoss()"
   ]
  },
  {
   "cell_type": "code",
   "execution_count": 29,
   "metadata": {},
   "outputs": [],
   "source": [
    "csv_path = \"./simplified_atrial_fibrillation/\"\n",
    "BATCH_SIZE = 64\n",
    "\n",
    "train_loader, val_loader, test_loader = Data_Loader(root=csv_path,Batch_Size=BATCH_SIZE)"
   ]
  },
  {
   "cell_type": "code",
   "execution_count": 30,
   "metadata": {
    "scrolled": false
   },
   "outputs": [
    {
     "name": "stdout",
     "output_type": "stream",
     "text": [
      "Training for 100 epochs...\n",
      "\n",
      "\n",
      "\n",
      "Epoch 1/100: train loss: 102.8224 | acc: 47.5647%|   validation loss: 24.9161 | acc: 47.6339% \n",
      "\n",
      "Epoch 11/100: train loss: 83.6358 | acc: 72.7263%|   validation loss: 20.8191 | acc: 73.7946% \n",
      "\n",
      "Epoch 21/100: train loss: 80.0807 | acc: 74.2780%|   validation loss: 20.2729 | acc: 73.4821% \n",
      "\n",
      "Epoch 31/100: train loss: 80.7339 | acc: 72.8233%|   validation loss: 19.7921 | acc: 73.8393% \n",
      "\n",
      "Epoch 41/100: train loss: 79.0384 | acc: 74.7306%|   validation loss: 19.2401 | acc: 75.9821% \n",
      "\n",
      "Epoch 51/100: train loss: 78.3277 | acc: 74.9030%|   validation loss: 20.1343 | acc: 73.4821% \n",
      "\n",
      "Epoch 61/100: train loss: 78.3342 | acc: 74.6875%|   validation loss: 19.6034 | acc: 76.1607% \n",
      "\n",
      "Epoch 71/100: train loss: 76.8063 | acc: 76.2177%|   validation loss: 19.2317 | acc: 76.5179% \n",
      "\n",
      "Epoch 81/100: train loss: 77.5034 | acc: 75.8728%|   validation loss: 19.7261 | acc: 75.7143% \n",
      "\n",
      "Epoch 91/100: train loss: 77.1506 | acc: 76.0345%|   validation loss: 18.9045 | acc: 76.7857% \n",
      "\n",
      "Final Accuracy:78.5268%\n",
      "\n",
      "Finished Training  | Time:7298.400202512741\n"
     ]
    },
    {
     "data": {
      "image/png": "[encoded data removed]",
      "text/plain": [
       "<Figure size 720x720 with 1 Axes>"
      ]
     },
     "metadata": {
      "needs_background": "light"
     },
     "output_type": "display_data"
    },
    {
     "data": {
      "image/png": "[encoded data removed]",
      "text/plain": [
       "<Figure size 720x720 with 1 Axes>"
      ]
     },
     "metadata": {
      "needs_background": "light"
     },
     "output_type": "display_data"
    }
   ],
   "source": [
    "EPOCHS=100\n",
    "lr_reduce=200\n",
    "trained_classifier = train_model(CNNmodel=brevitas_model,epochs=EPOCHS,\n",
    "                                train_loader=train_loader, test_loader=test_loader,\n",
    "                                criterion = criterion,optimizer = optimizer, \n",
    "                                Batch_Size = BATCH_SIZE,print_every = 10, \n",
    "                                LEARNING_RATE=LEARNING_RATE, lr_reduce=lr_reduce,\n",
    "                                verbose=True,plot_results=True)"
   ]
  },
  {
   "cell_type": "code",
   "execution_count": 31,
   "metadata": {},
   "outputs": [],
   "source": [
    "torch.save(brevitas_model.state_dict(),'./save/brevitas_model_parameter_w2a2_no_padding.pth')"
   ]
  },
  {
   "cell_type": "markdown",
   "metadata": {},
   "source": [
    "save parameters and export ONNX model"
   ]
  },
  {
   "cell_type": "code",
   "execution_count": 32,
   "metadata": {},
   "outputs": [],
   "source": [
    "import brevitas.onnx as bo"
   ]
  },
  {
   "cell_type": "code",
   "execution_count": null,
   "metadata": {},
   "outputs": [],
   "source": [
    "export_onnx_path=\"./save/ECG_test_no_padding.onnx\"\n",
    "input_shape=(1,1,5262,1)\n",
    "bo.export_finn_onnx(brevitas_model, input_shape, export_onnx_path)"
   ]
  },
  {
   "cell_type": "code",
   "execution_count": 34,
   "metadata": {},
   "outputs": [],
   "source": [
    "from finn.core.modelwrapper import ModelWrapper\n",
    "from finn.core.datatype import DataType"
   ]
  },
  {
   "cell_type": "code",
   "execution_count": 35,
   "metadata": {},
   "outputs": [],
   "source": [
    "model_file=\"./save/ECG_test_no_padding.onnx\"\n",
    "\n",
    "model=ModelWrapper(model_file)\n",
    "model.set_tensor_datatype(model.graph.input[0].name, DataType.UINT8) # FINN v0.6\n",
    "#model.set_tensor_datatype(model.graph.input[0].name, DataType[\"UINT8\"]) # FINN v0.7\n",
    "model.save(model_file)"
   ]
  },
  {
   "cell_type": "code",
   "execution_count": null,
   "metadata": {},
   "outputs": [],
   "source": []
  }
 ],
 "metadata": {
  "kernelspec": {
   "display_name": "Python 3",
   "language": "python",
   "name": "python3"
  },
  "language_info": {
   "codemirror_mode": {
    "name": "ipython",
    "version": 3
   },
   "file_extension": ".py",
   "mimetype": "text/x-python",
   "name": "python",
   "nbconvert_exporter": "python",
   "pygments_lexer": "ipython3",
   "version": "3.8.5"
  }
 },
 "nbformat": 4,
 "nbformat_minor": 5
}
